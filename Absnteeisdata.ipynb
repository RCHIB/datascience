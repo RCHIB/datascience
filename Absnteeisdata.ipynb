{
 "cells": [
  {
   "cell_type": "code",
   "execution_count": 1,
   "metadata": {},
   "outputs": [
    {
     "data": {
      "text/html": [
       "<div>\n",
       "<style scoped>\n",
       "    .dataframe tbody tr th:only-of-type {\n",
       "        vertical-align: middle;\n",
       "    }\n",
       "\n",
       "    .dataframe tbody tr th {\n",
       "        vertical-align: top;\n",
       "    }\n",
       "\n",
       "    .dataframe thead th {\n",
       "        text-align: right;\n",
       "    }\n",
       "</style>\n",
       "<table border=\"1\" class=\"dataframe\">\n",
       "  <thead>\n",
       "    <tr style=\"text-align: right;\">\n",
       "      <th></th>\n",
       "      <th>ID</th>\n",
       "      <th>Reason for absence</th>\n",
       "      <th>Month of absence</th>\n",
       "      <th>Day of the week</th>\n",
       "      <th>Seasons</th>\n",
       "      <th>Transportation expense</th>\n",
       "      <th>Distance from Residence to Work</th>\n",
       "      <th>Service time</th>\n",
       "      <th>Age</th>\n",
       "      <th>Work load Average/day</th>\n",
       "      <th>...</th>\n",
       "      <th>Disciplinary failure</th>\n",
       "      <th>Education</th>\n",
       "      <th>Son</th>\n",
       "      <th>Social drinker</th>\n",
       "      <th>Social smoker</th>\n",
       "      <th>Pet</th>\n",
       "      <th>Weight</th>\n",
       "      <th>Height</th>\n",
       "      <th>Body mass index</th>\n",
       "      <th>Absenteeism time in hours</th>\n",
       "    </tr>\n",
       "  </thead>\n",
       "  <tbody>\n",
       "    <tr>\n",
       "      <th>0</th>\n",
       "      <td>11</td>\n",
       "      <td>26</td>\n",
       "      <td>7</td>\n",
       "      <td>3</td>\n",
       "      <td>1</td>\n",
       "      <td>289</td>\n",
       "      <td>36</td>\n",
       "      <td>13</td>\n",
       "      <td>33</td>\n",
       "      <td>239554</td>\n",
       "      <td>...</td>\n",
       "      <td>0</td>\n",
       "      <td>1</td>\n",
       "      <td>2</td>\n",
       "      <td>1</td>\n",
       "      <td>0</td>\n",
       "      <td>1</td>\n",
       "      <td>90</td>\n",
       "      <td>172</td>\n",
       "      <td>30</td>\n",
       "      <td>4</td>\n",
       "    </tr>\n",
       "    <tr>\n",
       "      <th>1</th>\n",
       "      <td>36</td>\n",
       "      <td>0</td>\n",
       "      <td>7</td>\n",
       "      <td>3</td>\n",
       "      <td>1</td>\n",
       "      <td>118</td>\n",
       "      <td>13</td>\n",
       "      <td>18</td>\n",
       "      <td>50</td>\n",
       "      <td>239554</td>\n",
       "      <td>...</td>\n",
       "      <td>1</td>\n",
       "      <td>1</td>\n",
       "      <td>1</td>\n",
       "      <td>1</td>\n",
       "      <td>0</td>\n",
       "      <td>0</td>\n",
       "      <td>98</td>\n",
       "      <td>178</td>\n",
       "      <td>31</td>\n",
       "      <td>0</td>\n",
       "    </tr>\n",
       "    <tr>\n",
       "      <th>2</th>\n",
       "      <td>3</td>\n",
       "      <td>23</td>\n",
       "      <td>7</td>\n",
       "      <td>4</td>\n",
       "      <td>1</td>\n",
       "      <td>179</td>\n",
       "      <td>51</td>\n",
       "      <td>18</td>\n",
       "      <td>38</td>\n",
       "      <td>239554</td>\n",
       "      <td>...</td>\n",
       "      <td>0</td>\n",
       "      <td>1</td>\n",
       "      <td>0</td>\n",
       "      <td>1</td>\n",
       "      <td>0</td>\n",
       "      <td>0</td>\n",
       "      <td>89</td>\n",
       "      <td>170</td>\n",
       "      <td>31</td>\n",
       "      <td>2</td>\n",
       "    </tr>\n",
       "    <tr>\n",
       "      <th>3</th>\n",
       "      <td>7</td>\n",
       "      <td>7</td>\n",
       "      <td>7</td>\n",
       "      <td>5</td>\n",
       "      <td>1</td>\n",
       "      <td>279</td>\n",
       "      <td>5</td>\n",
       "      <td>14</td>\n",
       "      <td>39</td>\n",
       "      <td>239554</td>\n",
       "      <td>...</td>\n",
       "      <td>0</td>\n",
       "      <td>1</td>\n",
       "      <td>2</td>\n",
       "      <td>1</td>\n",
       "      <td>1</td>\n",
       "      <td>0</td>\n",
       "      <td>68</td>\n",
       "      <td>168</td>\n",
       "      <td>24</td>\n",
       "      <td>4</td>\n",
       "    </tr>\n",
       "    <tr>\n",
       "      <th>4</th>\n",
       "      <td>11</td>\n",
       "      <td>23</td>\n",
       "      <td>7</td>\n",
       "      <td>5</td>\n",
       "      <td>1</td>\n",
       "      <td>289</td>\n",
       "      <td>36</td>\n",
       "      <td>13</td>\n",
       "      <td>33</td>\n",
       "      <td>239554</td>\n",
       "      <td>...</td>\n",
       "      <td>0</td>\n",
       "      <td>1</td>\n",
       "      <td>2</td>\n",
       "      <td>1</td>\n",
       "      <td>0</td>\n",
       "      <td>1</td>\n",
       "      <td>90</td>\n",
       "      <td>172</td>\n",
       "      <td>30</td>\n",
       "      <td>2</td>\n",
       "    </tr>\n",
       "    <tr>\n",
       "      <th>...</th>\n",
       "      <td>...</td>\n",
       "      <td>...</td>\n",
       "      <td>...</td>\n",
       "      <td>...</td>\n",
       "      <td>...</td>\n",
       "      <td>...</td>\n",
       "      <td>...</td>\n",
       "      <td>...</td>\n",
       "      <td>...</td>\n",
       "      <td>...</td>\n",
       "      <td>...</td>\n",
       "      <td>...</td>\n",
       "      <td>...</td>\n",
       "      <td>...</td>\n",
       "      <td>...</td>\n",
       "      <td>...</td>\n",
       "      <td>...</td>\n",
       "      <td>...</td>\n",
       "      <td>...</td>\n",
       "      <td>...</td>\n",
       "      <td>...</td>\n",
       "    </tr>\n",
       "    <tr>\n",
       "      <th>735</th>\n",
       "      <td>11</td>\n",
       "      <td>14</td>\n",
       "      <td>7</td>\n",
       "      <td>3</td>\n",
       "      <td>1</td>\n",
       "      <td>289</td>\n",
       "      <td>36</td>\n",
       "      <td>13</td>\n",
       "      <td>33</td>\n",
       "      <td>264604</td>\n",
       "      <td>...</td>\n",
       "      <td>0</td>\n",
       "      <td>1</td>\n",
       "      <td>2</td>\n",
       "      <td>1</td>\n",
       "      <td>0</td>\n",
       "      <td>1</td>\n",
       "      <td>90</td>\n",
       "      <td>172</td>\n",
       "      <td>30</td>\n",
       "      <td>8</td>\n",
       "    </tr>\n",
       "    <tr>\n",
       "      <th>736</th>\n",
       "      <td>1</td>\n",
       "      <td>11</td>\n",
       "      <td>7</td>\n",
       "      <td>3</td>\n",
       "      <td>1</td>\n",
       "      <td>235</td>\n",
       "      <td>11</td>\n",
       "      <td>14</td>\n",
       "      <td>37</td>\n",
       "      <td>264604</td>\n",
       "      <td>...</td>\n",
       "      <td>0</td>\n",
       "      <td>3</td>\n",
       "      <td>1</td>\n",
       "      <td>0</td>\n",
       "      <td>0</td>\n",
       "      <td>1</td>\n",
       "      <td>88</td>\n",
       "      <td>172</td>\n",
       "      <td>29</td>\n",
       "      <td>4</td>\n",
       "    </tr>\n",
       "    <tr>\n",
       "      <th>737</th>\n",
       "      <td>4</td>\n",
       "      <td>0</td>\n",
       "      <td>0</td>\n",
       "      <td>3</td>\n",
       "      <td>1</td>\n",
       "      <td>118</td>\n",
       "      <td>14</td>\n",
       "      <td>13</td>\n",
       "      <td>40</td>\n",
       "      <td>271219</td>\n",
       "      <td>...</td>\n",
       "      <td>0</td>\n",
       "      <td>1</td>\n",
       "      <td>1</td>\n",
       "      <td>1</td>\n",
       "      <td>0</td>\n",
       "      <td>8</td>\n",
       "      <td>98</td>\n",
       "      <td>170</td>\n",
       "      <td>34</td>\n",
       "      <td>0</td>\n",
       "    </tr>\n",
       "    <tr>\n",
       "      <th>738</th>\n",
       "      <td>8</td>\n",
       "      <td>0</td>\n",
       "      <td>0</td>\n",
       "      <td>4</td>\n",
       "      <td>2</td>\n",
       "      <td>231</td>\n",
       "      <td>35</td>\n",
       "      <td>14</td>\n",
       "      <td>39</td>\n",
       "      <td>271219</td>\n",
       "      <td>...</td>\n",
       "      <td>0</td>\n",
       "      <td>1</td>\n",
       "      <td>2</td>\n",
       "      <td>1</td>\n",
       "      <td>0</td>\n",
       "      <td>2</td>\n",
       "      <td>100</td>\n",
       "      <td>170</td>\n",
       "      <td>35</td>\n",
       "      <td>0</td>\n",
       "    </tr>\n",
       "    <tr>\n",
       "      <th>739</th>\n",
       "      <td>35</td>\n",
       "      <td>0</td>\n",
       "      <td>0</td>\n",
       "      <td>6</td>\n",
       "      <td>3</td>\n",
       "      <td>179</td>\n",
       "      <td>45</td>\n",
       "      <td>14</td>\n",
       "      <td>53</td>\n",
       "      <td>271219</td>\n",
       "      <td>...</td>\n",
       "      <td>0</td>\n",
       "      <td>1</td>\n",
       "      <td>1</td>\n",
       "      <td>0</td>\n",
       "      <td>0</td>\n",
       "      <td>1</td>\n",
       "      <td>77</td>\n",
       "      <td>175</td>\n",
       "      <td>25</td>\n",
       "      <td>0</td>\n",
       "    </tr>\n",
       "  </tbody>\n",
       "</table>\n",
       "<p>740 rows × 21 columns</p>\n",
       "</div>"
      ],
      "text/plain": [
       "     ID  Reason for absence  Month of absence  Day of the week  Seasons  \\\n",
       "0    11                  26                 7                3        1   \n",
       "1    36                   0                 7                3        1   \n",
       "2     3                  23                 7                4        1   \n",
       "3     7                   7                 7                5        1   \n",
       "4    11                  23                 7                5        1   \n",
       "..   ..                 ...               ...              ...      ...   \n",
       "735  11                  14                 7                3        1   \n",
       "736   1                  11                 7                3        1   \n",
       "737   4                   0                 0                3        1   \n",
       "738   8                   0                 0                4        2   \n",
       "739  35                   0                 0                6        3   \n",
       "\n",
       "     Transportation expense  Distance from Residence to Work  Service time  \\\n",
       "0                       289                               36            13   \n",
       "1                       118                               13            18   \n",
       "2                       179                               51            18   \n",
       "3                       279                                5            14   \n",
       "4                       289                               36            13   \n",
       "..                      ...                              ...           ...   \n",
       "735                     289                               36            13   \n",
       "736                     235                               11            14   \n",
       "737                     118                               14            13   \n",
       "738                     231                               35            14   \n",
       "739                     179                               45            14   \n",
       "\n",
       "     Age  Work load Average/day   ...  Disciplinary failure  Education  Son  \\\n",
       "0     33                  239554  ...                     0          1    2   \n",
       "1     50                  239554  ...                     1          1    1   \n",
       "2     38                  239554  ...                     0          1    0   \n",
       "3     39                  239554  ...                     0          1    2   \n",
       "4     33                  239554  ...                     0          1    2   \n",
       "..   ...                     ...  ...                   ...        ...  ...   \n",
       "735   33                  264604  ...                     0          1    2   \n",
       "736   37                  264604  ...                     0          3    1   \n",
       "737   40                  271219  ...                     0          1    1   \n",
       "738   39                  271219  ...                     0          1    2   \n",
       "739   53                  271219  ...                     0          1    1   \n",
       "\n",
       "     Social drinker  Social smoker  Pet  Weight  Height  Body mass index  \\\n",
       "0                 1              0    1      90     172               30   \n",
       "1                 1              0    0      98     178               31   \n",
       "2                 1              0    0      89     170               31   \n",
       "3                 1              1    0      68     168               24   \n",
       "4                 1              0    1      90     172               30   \n",
       "..              ...            ...  ...     ...     ...              ...   \n",
       "735               1              0    1      90     172               30   \n",
       "736               0              0    1      88     172               29   \n",
       "737               1              0    8      98     170               34   \n",
       "738               1              0    2     100     170               35   \n",
       "739               0              0    1      77     175               25   \n",
       "\n",
       "     Absenteeism time in hours  \n",
       "0                            4  \n",
       "1                            0  \n",
       "2                            2  \n",
       "3                            4  \n",
       "4                            2  \n",
       "..                         ...  \n",
       "735                          8  \n",
       "736                          4  \n",
       "737                          0  \n",
       "738                          0  \n",
       "739                          0  \n",
       "\n",
       "[740 rows x 21 columns]"
      ]
     },
     "execution_count": 1,
     "metadata": {},
     "output_type": "execute_result"
    }
   ],
   "source": [
    "#Absenteeism_at_work data set\n",
    "import pandas as pd\n",
    "import numpy as np\n",
    "data=pd.read_excel(r'C:\\DataSet\\Absenteeism_at_work.xls')\n",
    "data"
   ]
  },
  {
   "cell_type": "code",
   "execution_count": 2,
   "metadata": {},
   "outputs": [
    {
     "name": "stdout",
     "output_type": "stream",
     "text": [
      "<class 'pandas.core.frame.DataFrame'>\n",
      "RangeIndex: 740 entries, 0 to 739\n",
      "Data columns (total 21 columns):\n",
      " #   Column                           Non-Null Count  Dtype\n",
      "---  ------                           --------------  -----\n",
      " 0   ID                               740 non-null    int64\n",
      " 1   Reason for absence               740 non-null    int64\n",
      " 2   Month of absence                 740 non-null    int64\n",
      " 3   Day of the week                  740 non-null    int64\n",
      " 4   Seasons                          740 non-null    int64\n",
      " 5   Transportation expense           740 non-null    int64\n",
      " 6   Distance from Residence to Work  740 non-null    int64\n",
      " 7   Service time                     740 non-null    int64\n",
      " 8   Age                              740 non-null    int64\n",
      " 9   Work load Average/day            740 non-null    int64\n",
      " 10  Hit target                       740 non-null    int64\n",
      " 11  Disciplinary failure             740 non-null    int64\n",
      " 12  Education                        740 non-null    int64\n",
      " 13  Son                              740 non-null    int64\n",
      " 14  Social drinker                   740 non-null    int64\n",
      " 15  Social smoker                    740 non-null    int64\n",
      " 16  Pet                              740 non-null    int64\n",
      " 17  Weight                           740 non-null    int64\n",
      " 18  Height                           740 non-null    int64\n",
      " 19  Body mass index                  740 non-null    int64\n",
      " 20  Absenteeism time in hours        740 non-null    int64\n",
      "dtypes: int64(21)\n",
      "memory usage: 121.5 KB\n"
     ]
    }
   ],
   "source": [
    "data.info()"
   ]
  },
  {
   "cell_type": "code",
   "execution_count": 3,
   "metadata": {},
   "outputs": [],
   "source": [
    "data.columns = data.columns.str.replace('/', 'per').str.strip()"
   ]
  },
  {
   "cell_type": "code",
   "execution_count": 4,
   "metadata": {},
   "outputs": [
    {
     "data": {
      "text/html": [
       "<div>\n",
       "<style scoped>\n",
       "    .dataframe tbody tr th:only-of-type {\n",
       "        vertical-align: middle;\n",
       "    }\n",
       "\n",
       "    .dataframe tbody tr th {\n",
       "        vertical-align: top;\n",
       "    }\n",
       "\n",
       "    .dataframe thead th {\n",
       "        text-align: right;\n",
       "    }\n",
       "</style>\n",
       "<table border=\"1\" class=\"dataframe\">\n",
       "  <thead>\n",
       "    <tr style=\"text-align: right;\">\n",
       "      <th></th>\n",
       "      <th>ID</th>\n",
       "    </tr>\n",
       "    <tr>\n",
       "      <th>ID</th>\n",
       "      <th></th>\n",
       "    </tr>\n",
       "  </thead>\n",
       "  <tbody>\n",
       "    <tr>\n",
       "      <th>1</th>\n",
       "      <td>23</td>\n",
       "    </tr>\n",
       "    <tr>\n",
       "      <th>2</th>\n",
       "      <td>6</td>\n",
       "    </tr>\n",
       "    <tr>\n",
       "      <th>3</th>\n",
       "      <td>113</td>\n",
       "    </tr>\n",
       "    <tr>\n",
       "      <th>4</th>\n",
       "      <td>1</td>\n",
       "    </tr>\n",
       "    <tr>\n",
       "      <th>5</th>\n",
       "      <td>19</td>\n",
       "    </tr>\n",
       "  </tbody>\n",
       "</table>\n",
       "</div>"
      ],
      "text/plain": [
       "     ID\n",
       "ID     \n",
       "1    23\n",
       "2     6\n",
       "3   113\n",
       "4     1\n",
       "5    19"
      ]
     },
     "execution_count": 4,
     "metadata": {},
     "output_type": "execute_result"
    }
   ],
   "source": [
    "data.groupby('ID')[['ID']].count().head()"
   ]
  },
  {
   "cell_type": "code",
   "execution_count": 5,
   "metadata": {},
   "outputs": [],
   "source": [
    "data['Social drinker'] = data['Social drinker'].astype('bool')\n",
    "data['Social smoker'] = data['Social smoker'].astype('bool')\n",
    "data['Disciplinary failure'] = data['Disciplinary failure'].astype('bool')\n",
    "data['Seasons'] = data['Seasons'].astype('category')\n",
    "data['Education'] = data['Education'].astype('category')\n",
    "data['Day of the week'] = data['Day of the week'].astype('category')\n",
    "data['Month of absence'] = data['Month of absence'].astype('category')\n",
    "data['Reason for absence'] = data['Reason for absence'].astype('category')"
   ]
  },
  {
   "cell_type": "code",
   "execution_count": 6,
   "metadata": {},
   "outputs": [
    {
     "data": {
      "text/plain": [
       "ID                                 0\n",
       "Reason for absence                 0\n",
       "Month of absence                   0\n",
       "Day of the week                    0\n",
       "Seasons                            0\n",
       "Transportation expense             0\n",
       "Distance from Residence to Work    0\n",
       "Service time                       0\n",
       "Age                                0\n",
       "Work load Averageperday            0\n",
       "Hit target                         0\n",
       "Disciplinary failure               0\n",
       "Education                          0\n",
       "Son                                0\n",
       "Social drinker                     0\n",
       "Social smoker                      0\n",
       "Pet                                0\n",
       "Weight                             0\n",
       "Height                             0\n",
       "Body mass index                    0\n",
       "Absenteeism time in hours          0\n",
       "dtype: int64"
      ]
     },
     "execution_count": 6,
     "metadata": {},
     "output_type": "execute_result"
    }
   ],
   "source": [
    "data.isnull().sum()"
   ]
  },
  {
   "cell_type": "code",
   "execution_count": 8,
   "metadata": {},
   "outputs": [
    {
     "data": {
      "text/html": [
       "<div>\n",
       "<style scoped>\n",
       "    .dataframe tbody tr th:only-of-type {\n",
       "        vertical-align: middle;\n",
       "    }\n",
       "\n",
       "    .dataframe tbody tr th {\n",
       "        vertical-align: top;\n",
       "    }\n",
       "\n",
       "    .dataframe thead th {\n",
       "        text-align: right;\n",
       "    }\n",
       "</style>\n",
       "<table border=\"1\" class=\"dataframe\">\n",
       "  <thead>\n",
       "    <tr style=\"text-align: right;\">\n",
       "      <th></th>\n",
       "      <th>ID</th>\n",
       "      <th>Reason for absence</th>\n",
       "      <th>Month of absence</th>\n",
       "      <th>Day of the week</th>\n",
       "      <th>Seasons</th>\n",
       "      <th>Transportation expense</th>\n",
       "      <th>Distance from Residence to Work</th>\n",
       "      <th>Service time</th>\n",
       "      <th>Age</th>\n",
       "      <th>Work load Averageperday</th>\n",
       "      <th>...</th>\n",
       "      <th>Disciplinary failure</th>\n",
       "      <th>Education</th>\n",
       "      <th>Son</th>\n",
       "      <th>Social drinker</th>\n",
       "      <th>Social smoker</th>\n",
       "      <th>Pet</th>\n",
       "      <th>Weight</th>\n",
       "      <th>Height</th>\n",
       "      <th>Body mass index</th>\n",
       "      <th>Absenteeism time in hours</th>\n",
       "    </tr>\n",
       "  </thead>\n",
       "  <tbody>\n",
       "    <tr>\n",
       "      <th>737</th>\n",
       "      <td>4</td>\n",
       "      <td>0</td>\n",
       "      <td>0</td>\n",
       "      <td>3</td>\n",
       "      <td>1</td>\n",
       "      <td>118</td>\n",
       "      <td>14</td>\n",
       "      <td>13</td>\n",
       "      <td>40</td>\n",
       "      <td>271219</td>\n",
       "      <td>...</td>\n",
       "      <td>False</td>\n",
       "      <td>1</td>\n",
       "      <td>1</td>\n",
       "      <td>True</td>\n",
       "      <td>False</td>\n",
       "      <td>8</td>\n",
       "      <td>98</td>\n",
       "      <td>170</td>\n",
       "      <td>34</td>\n",
       "      <td>0</td>\n",
       "    </tr>\n",
       "    <tr>\n",
       "      <th>738</th>\n",
       "      <td>8</td>\n",
       "      <td>0</td>\n",
       "      <td>0</td>\n",
       "      <td>4</td>\n",
       "      <td>2</td>\n",
       "      <td>231</td>\n",
       "      <td>35</td>\n",
       "      <td>14</td>\n",
       "      <td>39</td>\n",
       "      <td>271219</td>\n",
       "      <td>...</td>\n",
       "      <td>False</td>\n",
       "      <td>1</td>\n",
       "      <td>2</td>\n",
       "      <td>True</td>\n",
       "      <td>False</td>\n",
       "      <td>2</td>\n",
       "      <td>100</td>\n",
       "      <td>170</td>\n",
       "      <td>35</td>\n",
       "      <td>0</td>\n",
       "    </tr>\n",
       "    <tr>\n",
       "      <th>739</th>\n",
       "      <td>35</td>\n",
       "      <td>0</td>\n",
       "      <td>0</td>\n",
       "      <td>6</td>\n",
       "      <td>3</td>\n",
       "      <td>179</td>\n",
       "      <td>45</td>\n",
       "      <td>14</td>\n",
       "      <td>53</td>\n",
       "      <td>271219</td>\n",
       "      <td>...</td>\n",
       "      <td>False</td>\n",
       "      <td>1</td>\n",
       "      <td>1</td>\n",
       "      <td>False</td>\n",
       "      <td>False</td>\n",
       "      <td>1</td>\n",
       "      <td>77</td>\n",
       "      <td>175</td>\n",
       "      <td>25</td>\n",
       "      <td>0</td>\n",
       "    </tr>\n",
       "  </tbody>\n",
       "</table>\n",
       "<p>3 rows × 21 columns</p>\n",
       "</div>"
      ],
      "text/plain": [
       "     ID Reason for absence Month of absence Day of the week Seasons  \\\n",
       "737   4                  0                0               3       1   \n",
       "738   8                  0                0               4       2   \n",
       "739  35                  0                0               6       3   \n",
       "\n",
       "     Transportation expense  Distance from Residence to Work  Service time  \\\n",
       "737                     118                               14            13   \n",
       "738                     231                               35            14   \n",
       "739                     179                               45            14   \n",
       "\n",
       "     Age  Work load Averageperday  ...  Disciplinary failure  Education Son  \\\n",
       "737   40                   271219  ...                 False          1   1   \n",
       "738   39                   271219  ...                 False          1   2   \n",
       "739   53                   271219  ...                 False          1   1   \n",
       "\n",
       "     Social drinker  Social smoker  Pet  Weight  Height  Body mass index  \\\n",
       "737            True          False    8      98     170               34   \n",
       "738            True          False    2     100     170               35   \n",
       "739           False          False    1      77     175               25   \n",
       "\n",
       "     Absenteeism time in hours  \n",
       "737                          0  \n",
       "738                          0  \n",
       "739                          0  \n",
       "\n",
       "[3 rows x 21 columns]"
      ]
     },
     "execution_count": 8,
     "metadata": {},
     "output_type": "execute_result"
    }
   ],
   "source": [
    "data[data['Month of absence']==0]"
   ]
  },
  {
   "cell_type": "code",
   "execution_count": 9,
   "metadata": {},
   "outputs": [],
   "source": [
    "data = data[data['Month of absence'] != 0]"
   ]
  },
  {
   "cell_type": "code",
   "execution_count": 10,
   "metadata": {},
   "outputs": [
    {
     "data": {
      "text/plain": [
       "41"
      ]
     },
     "execution_count": 10,
     "metadata": {},
     "output_type": "execute_result"
    }
   ],
   "source": [
    "len(data[data['Absenteeism time in hours']==0])"
   ]
  },
  {
   "cell_type": "code",
   "execution_count": 11,
   "metadata": {},
   "outputs": [
    {
     "data": {
      "text/plain": [
       "40"
      ]
     },
     "execution_count": 11,
     "metadata": {},
     "output_type": "execute_result"
    }
   ],
   "source": [
    "\n",
    "len(data[data['Disciplinary failure']==1])"
   ]
  },
  {
   "cell_type": "code",
   "execution_count": 12,
   "metadata": {},
   "outputs": [
    {
     "data": {
      "text/html": [
       "<div>\n",
       "<style scoped>\n",
       "    .dataframe tbody tr th:only-of-type {\n",
       "        vertical-align: middle;\n",
       "    }\n",
       "\n",
       "    .dataframe tbody tr th {\n",
       "        vertical-align: top;\n",
       "    }\n",
       "\n",
       "    .dataframe thead th {\n",
       "        text-align: right;\n",
       "    }\n",
       "</style>\n",
       "<table border=\"1\" class=\"dataframe\">\n",
       "  <thead>\n",
       "    <tr style=\"text-align: right;\">\n",
       "      <th></th>\n",
       "      <th>ID</th>\n",
       "      <th>Reason for absence</th>\n",
       "      <th>Month of absence</th>\n",
       "      <th>Day of the week</th>\n",
       "      <th>Seasons</th>\n",
       "      <th>Transportation expense</th>\n",
       "      <th>Distance from Residence to Work</th>\n",
       "      <th>Service time</th>\n",
       "      <th>Age</th>\n",
       "      <th>Work load Averageperday</th>\n",
       "      <th>...</th>\n",
       "      <th>Disciplinary failure</th>\n",
       "      <th>Education</th>\n",
       "      <th>Son</th>\n",
       "      <th>Social drinker</th>\n",
       "      <th>Social smoker</th>\n",
       "      <th>Pet</th>\n",
       "      <th>Weight</th>\n",
       "      <th>Height</th>\n",
       "      <th>Body mass index</th>\n",
       "      <th>Absenteeism time in hours</th>\n",
       "    </tr>\n",
       "  </thead>\n",
       "  <tbody>\n",
       "    <tr>\n",
       "      <th>134</th>\n",
       "      <td>34</td>\n",
       "      <td>27</td>\n",
       "      <td>1</td>\n",
       "      <td>2</td>\n",
       "      <td>2</td>\n",
       "      <td>118</td>\n",
       "      <td>10</td>\n",
       "      <td>10</td>\n",
       "      <td>37</td>\n",
       "      <td>308593</td>\n",
       "      <td>...</td>\n",
       "      <td>False</td>\n",
       "      <td>1</td>\n",
       "      <td>0</td>\n",
       "      <td>False</td>\n",
       "      <td>False</td>\n",
       "      <td>0</td>\n",
       "      <td>83</td>\n",
       "      <td>172</td>\n",
       "      <td>28</td>\n",
       "      <td>0</td>\n",
       "    </tr>\n",
       "  </tbody>\n",
       "</table>\n",
       "<p>1 rows × 21 columns</p>\n",
       "</div>"
      ],
      "text/plain": [
       "     ID Reason for absence Month of absence Day of the week Seasons  \\\n",
       "134  34                 27                1               2       2   \n",
       "\n",
       "     Transportation expense  Distance from Residence to Work  Service time  \\\n",
       "134                     118                               10            10   \n",
       "\n",
       "     Age  Work load Averageperday  ...  Disciplinary failure  Education Son  \\\n",
       "134   37                   308593  ...                 False          1   0   \n",
       "\n",
       "     Social drinker  Social smoker  Pet  Weight  Height  Body mass index  \\\n",
       "134           False          False    0      83     172               28   \n",
       "\n",
       "     Absenteeism time in hours  \n",
       "134                          0  \n",
       "\n",
       "[1 rows x 21 columns]"
      ]
     },
     "execution_count": 12,
     "metadata": {},
     "output_type": "execute_result"
    }
   ],
   "source": [
    "data[(data['Absenteeism time in hours']==0) & (data['Disciplinary failure']!=1)]\n"
   ]
  },
  {
   "cell_type": "code",
   "execution_count": 13,
   "metadata": {},
   "outputs": [
    {
     "data": {
      "text/plain": [
       "Absenteeism time in hours    2.275362\n",
       "dtype: float64"
      ]
     },
     "execution_count": 13,
     "metadata": {},
     "output_type": "execute_result"
    }
   ],
   "source": [
    "data[data['Reason for absence']==27][['Absenteeism time in hours']].mean()"
   ]
  },
  {
   "cell_type": "code",
   "execution_count": 14,
   "metadata": {},
   "outputs": [
    {
     "name": "stderr",
     "output_type": "stream",
     "text": [
      "C:\\Users\\605822\\Anaconda3\\lib\\site-packages\\pandas\\core\\indexing.py:965: SettingWithCopyWarning: \n",
      "A value is trying to be set on a copy of a slice from a DataFrame.\n",
      "Try using .loc[row_indexer,col_indexer] = value instead\n",
      "\n",
      "See the caveats in the documentation: https://pandas.pydata.org/pandas-docs/stable/user_guide/indexing.html#returning-a-view-versus-a-copy\n",
      "  self.obj[item] = s\n"
     ]
    }
   ],
   "source": [
    "data.loc[(data['Reason for absence']==27) & (data['Absenteeism time in hours']==0),'Absenteeism time in hours']=3\n"
   ]
  },
  {
   "cell_type": "code",
   "execution_count": 15,
   "metadata": {},
   "outputs": [],
   "source": [
    "data.loc[(data['Absenteeism time in hours']==0),'Absenteeism time in hours']=8\n"
   ]
  },
  {
   "cell_type": "code",
   "execution_count": 16,
   "metadata": {},
   "outputs": [
    {
     "data": {
      "text/plain": [
       "0"
      ]
     },
     "execution_count": 16,
     "metadata": {},
     "output_type": "execute_result"
    }
   ],
   "source": [
    "len(data[data['Absenteeism time in hours']==0])"
   ]
  },
  {
   "cell_type": "code",
   "execution_count": 17,
   "metadata": {},
   "outputs": [
    {
     "name": "stderr",
     "output_type": "stream",
     "text": [
      "C:\\Users\\605822\\Anaconda3\\lib\\site-packages\\ipykernel_launcher.py:2: SettingWithCopyWarning: \n",
      "A value is trying to be set on a copy of a slice from a DataFrame.\n",
      "Try using .loc[row_indexer,col_indexer] = value instead\n",
      "\n",
      "See the caveats in the documentation: https://pandas.pydata.org/pandas-docs/stable/user_guide/indexing.html#returning-a-view-versus-a-copy\n",
      "  \n",
      "C:\\Users\\605822\\Anaconda3\\lib\\site-packages\\ipykernel_launcher.py:3: SettingWithCopyWarning: \n",
      "A value is trying to be set on a copy of a slice from a DataFrame.\n",
      "Try using .loc[row_indexer,col_indexer] = value instead\n",
      "\n",
      "See the caveats in the documentation: https://pandas.pydata.org/pandas-docs/stable/user_guide/indexing.html#returning-a-view-versus-a-copy\n",
      "  This is separate from the ipykernel package so we can avoid doing imports until\n"
     ]
    },
    {
     "data": {
      "text/html": [
       "<div>\n",
       "<style scoped>\n",
       "    .dataframe tbody tr th:only-of-type {\n",
       "        vertical-align: middle;\n",
       "    }\n",
       "\n",
       "    .dataframe tbody tr th {\n",
       "        vertical-align: top;\n",
       "    }\n",
       "\n",
       "    .dataframe thead th {\n",
       "        text-align: right;\n",
       "    }\n",
       "</style>\n",
       "<table border=\"1\" class=\"dataframe\">\n",
       "  <thead>\n",
       "    <tr style=\"text-align: right;\">\n",
       "      <th></th>\n",
       "      <th>Seasons</th>\n",
       "      <th>season_name</th>\n",
       "    </tr>\n",
       "  </thead>\n",
       "  <tbody>\n",
       "    <tr>\n",
       "      <th>0</th>\n",
       "      <td>1</td>\n",
       "      <td>Summer</td>\n",
       "    </tr>\n",
       "    <tr>\n",
       "      <th>49</th>\n",
       "      <td>4</td>\n",
       "      <td>Spring</td>\n",
       "    </tr>\n",
       "    <tr>\n",
       "      <th>111</th>\n",
       "      <td>2</td>\n",
       "      <td>Autumn</td>\n",
       "    </tr>\n",
       "    <tr>\n",
       "      <th>175</th>\n",
       "      <td>3</td>\n",
       "      <td>Winter</td>\n",
       "    </tr>\n",
       "  </tbody>\n",
       "</table>\n",
       "</div>"
      ],
      "text/plain": [
       "    Seasons season_name\n",
       "0         1      Summer\n",
       "49        4      Spring\n",
       "111       2      Autumn\n",
       "175       3      Winter"
      ]
     },
     "execution_count": 17,
     "metadata": {},
     "output_type": "execute_result"
    }
   ],
   "source": [
    "season_mapping = {1:'Summer', 2:'Autumn', 3:'Winter', 4:'Spring'}\n",
    "data['season_name'] = data.Seasons.map(season_mapping)\n",
    "data['season_name'] = data['season_name'].astype('category')\n",
    "data.drop_duplicates(['Seasons', 'season_name'])[['Seasons','season_name']]"
   ]
  },
  {
   "cell_type": "code",
   "execution_count": 20,
   "metadata": {},
   "outputs": [],
   "source": [
    "%matplotlib inline\n",
    "import pandas as pd\n",
    "import matplotlib.pyplot as plt\n",
    "from statsmodels.graphics import tsaplots\n",
    "import statsmodels.api as sm\n",
    "import seaborn as sns\n",
    "import numpy as np\n",
    "import calendar\n",
    "from sklearn.model_selection import train_test_split\n",
    "from sklearn.ensemble import RandomForestRegressor, RandomForestClassifier\n",
    "from sklearn.metrics import r2_score, mean_squared_error as MSE\n",
    "from scipy.stats import spearmanr, pearsonr\n",
    "from sklearn import metrics\n",
    "from sklearn.metrics import classification_report\n",
    "from scipy.cluster import hierarchy as hc\n",
    "import scipy\n",
    "from collections import Counter"
   ]
  },
  {
   "cell_type": "code",
   "execution_count": 21,
   "metadata": {},
   "outputs": [
    {
     "name": "stderr",
     "output_type": "stream",
     "text": [
      "C:\\Users\\605822\\Anaconda3\\lib\\site-packages\\ipykernel_launcher.py:1: SettingWithCopyWarning: \n",
      "A value is trying to be set on a copy of a slice from a DataFrame.\n",
      "Try using .loc[row_indexer,col_indexer] = value instead\n",
      "\n",
      "See the caveats in the documentation: https://pandas.pydata.org/pandas-docs/stable/user_guide/indexing.html#returning-a-view-versus-a-copy\n",
      "  \"\"\"Entry point for launching an IPython kernel.\n"
     ]
    }
   ],
   "source": [
    "data['month_name'] =  data['Month of absence'].apply(lambda x: calendar.month_abbr[x])"
   ]
  },
  {
   "cell_type": "code",
   "execution_count": 23,
   "metadata": {},
   "outputs": [
    {
     "name": "stderr",
     "output_type": "stream",
     "text": [
      "C:\\Users\\605822\\Anaconda3\\lib\\site-packages\\ipykernel_launcher.py:32: SettingWithCopyWarning: \n",
      "A value is trying to be set on a copy of a slice from a DataFrame.\n",
      "Try using .loc[row_indexer,col_indexer] = value instead\n",
      "\n",
      "See the caveats in the documentation: https://pandas.pydata.org/pandas-docs/stable/user_guide/indexing.html#returning-a-view-versus-a-copy\n"
     ]
    }
   ],
   "source": [
    "reason_mapping = {\n",
    "    0: 'Unknown',\n",
    "    1: 'Certain infectious and parasitic diseases',\n",
    "    2: 'Neoplasms',\n",
    "    3: 'Diseases of the blood and blood-forming organs and certain disorders involving the immune mechanism',\n",
    "    4: 'Endocrine, nutritional and metabolic diseases',\n",
    "    5: 'Mental and behavioural disorders',\n",
    "    6: 'Diseases of the nervous system',\n",
    "    7: 'Diseases of the eye and adnexa',\n",
    "    8: 'Diseases of the ear and mastoid process',\n",
    "    9: 'Diseases of the circulatory system',\n",
    "    10: 'Diseases of the respiratory system',\n",
    "    11: 'Diseases of the digestive system',\n",
    "    12: 'Diseases of the skin and subcutaneous tissue',\n",
    "    13: 'Diseases of the musculoskeletal system and connective tissue',\n",
    "    14: 'Diseases of the genitourinary system',\n",
    "    15: 'Pregnancy, childbirth and the puerperium',\n",
    "    16: 'Certain conditions originating in the perinatal period',\n",
    "    17: 'Congenital malformations, deformations and chromosomal abnormalities',\n",
    "    18: 'Symptoms, signs and abnormal clinical and laboratory findings, not elsewhere classified',\n",
    "    19: 'Injury, poisoning and certain other consequences of external causes',\n",
    "    20: 'External causes of morbidity and mortality',\n",
    "    21: 'Factors influencing health status and contact with health services',\n",
    "    22: 'Patient follow-up',\n",
    "    23: 'Medical consultation',\n",
    "    24: 'Blood donation',\n",
    "    25: 'Laboratory examination',\n",
    "    26: 'Unjustified absence',\n",
    "    27: 'Physiotherapy',\n",
    "    28: 'Dental consultation'\n",
    "}\n",
    "data['reason_text'] = data['Reason for absence'].map(reason_mapping)"
   ]
  },
  {
   "cell_type": "code",
   "execution_count": 24,
   "metadata": {},
   "outputs": [
    {
     "name": "stderr",
     "output_type": "stream",
     "text": [
      "C:\\Users\\605822\\Anaconda3\\lib\\site-packages\\ipykernel_launcher.py:8: SettingWithCopyWarning: \n",
      "A value is trying to be set on a copy of a slice from a DataFrame.\n",
      "Try using .loc[row_indexer,col_indexer] = value instead\n",
      "\n",
      "See the caveats in the documentation: https://pandas.pydata.org/pandas-docs/stable/user_guide/indexing.html#returning-a-view-versus-a-copy\n",
      "  \n",
      "C:\\Users\\605822\\Anaconda3\\lib\\site-packages\\ipykernel_launcher.py:11: SettingWithCopyWarning: \n",
      "A value is trying to be set on a copy of a slice from a DataFrame.\n",
      "Try using .loc[row_indexer,col_indexer] = value instead\n",
      "\n",
      "See the caveats in the documentation: https://pandas.pydata.org/pandas-docs/stable/user_guide/indexing.html#returning-a-view-versus-a-copy\n",
      "  # This is added back by InteractiveShellApp.init_path()\n"
     ]
    }
   ],
   "source": [
    "education_mapping = {\n",
    "    1: 'High School',\n",
    "    2: 'Graduate',\n",
    "    3: 'Post Graduate',\n",
    "    4: 'Master & Doctor'\n",
    "}\n",
    "education_list = {'High School', 'Graduate', 'Post Graduate', 'Master & Doctor'}\n",
    "data['Education_detail'] = data['Education'].map(education_mapping)\n",
    "#data['Education_detail'] = data['Education_detail'].astype('category')\n",
    "category_education = pd.api.types.CategoricalDtype(categories=education_list, ordered=True)\n",
    "data['Education_detail'] = data['Education_detail'].astype(category_education)"
   ]
  },
  {
   "cell_type": "code",
   "execution_count": 25,
   "metadata": {},
   "outputs": [
    {
     "data": {
      "text/html": [
       "<div>\n",
       "<style scoped>\n",
       "    .dataframe tbody tr th:only-of-type {\n",
       "        vertical-align: middle;\n",
       "    }\n",
       "\n",
       "    .dataframe tbody tr th {\n",
       "        vertical-align: top;\n",
       "    }\n",
       "\n",
       "    .dataframe thead th {\n",
       "        text-align: right;\n",
       "    }\n",
       "</style>\n",
       "<table border=\"1\" class=\"dataframe\">\n",
       "  <thead>\n",
       "    <tr style=\"text-align: right;\">\n",
       "      <th></th>\n",
       "      <th>ID</th>\n",
       "      <th>Reason for absence</th>\n",
       "      <th>Month of absence</th>\n",
       "      <th>Day of the week</th>\n",
       "      <th>Seasons</th>\n",
       "      <th>Transportation expense</th>\n",
       "      <th>Distance from Residence to Work</th>\n",
       "      <th>Service time</th>\n",
       "      <th>Age</th>\n",
       "      <th>Work load Averageperday</th>\n",
       "      <th>...</th>\n",
       "      <th>Social smoker</th>\n",
       "      <th>Pet</th>\n",
       "      <th>Weight</th>\n",
       "      <th>Height</th>\n",
       "      <th>Body mass index</th>\n",
       "      <th>Absenteeism time in hours</th>\n",
       "      <th>season_name</th>\n",
       "      <th>month_name</th>\n",
       "      <th>reason_text</th>\n",
       "      <th>Education_detail</th>\n",
       "    </tr>\n",
       "  </thead>\n",
       "  <tbody>\n",
       "    <tr>\n",
       "      <th>0</th>\n",
       "      <td>11</td>\n",
       "      <td>26</td>\n",
       "      <td>7</td>\n",
       "      <td>3</td>\n",
       "      <td>1</td>\n",
       "      <td>289</td>\n",
       "      <td>36</td>\n",
       "      <td>13</td>\n",
       "      <td>33</td>\n",
       "      <td>239554</td>\n",
       "      <td>...</td>\n",
       "      <td>False</td>\n",
       "      <td>1</td>\n",
       "      <td>90</td>\n",
       "      <td>172</td>\n",
       "      <td>30</td>\n",
       "      <td>4</td>\n",
       "      <td>Summer</td>\n",
       "      <td>Jul</td>\n",
       "      <td>Unjustified absence</td>\n",
       "      <td>High School</td>\n",
       "    </tr>\n",
       "    <tr>\n",
       "      <th>1</th>\n",
       "      <td>36</td>\n",
       "      <td>0</td>\n",
       "      <td>7</td>\n",
       "      <td>3</td>\n",
       "      <td>1</td>\n",
       "      <td>118</td>\n",
       "      <td>13</td>\n",
       "      <td>18</td>\n",
       "      <td>50</td>\n",
       "      <td>239554</td>\n",
       "      <td>...</td>\n",
       "      <td>False</td>\n",
       "      <td>0</td>\n",
       "      <td>98</td>\n",
       "      <td>178</td>\n",
       "      <td>31</td>\n",
       "      <td>8</td>\n",
       "      <td>Summer</td>\n",
       "      <td>Jul</td>\n",
       "      <td>Unknown</td>\n",
       "      <td>High School</td>\n",
       "    </tr>\n",
       "    <tr>\n",
       "      <th>2</th>\n",
       "      <td>3</td>\n",
       "      <td>23</td>\n",
       "      <td>7</td>\n",
       "      <td>4</td>\n",
       "      <td>1</td>\n",
       "      <td>179</td>\n",
       "      <td>51</td>\n",
       "      <td>18</td>\n",
       "      <td>38</td>\n",
       "      <td>239554</td>\n",
       "      <td>...</td>\n",
       "      <td>False</td>\n",
       "      <td>0</td>\n",
       "      <td>89</td>\n",
       "      <td>170</td>\n",
       "      <td>31</td>\n",
       "      <td>2</td>\n",
       "      <td>Summer</td>\n",
       "      <td>Jul</td>\n",
       "      <td>Medical consultation</td>\n",
       "      <td>High School</td>\n",
       "    </tr>\n",
       "    <tr>\n",
       "      <th>3</th>\n",
       "      <td>7</td>\n",
       "      <td>7</td>\n",
       "      <td>7</td>\n",
       "      <td>5</td>\n",
       "      <td>1</td>\n",
       "      <td>279</td>\n",
       "      <td>5</td>\n",
       "      <td>14</td>\n",
       "      <td>39</td>\n",
       "      <td>239554</td>\n",
       "      <td>...</td>\n",
       "      <td>True</td>\n",
       "      <td>0</td>\n",
       "      <td>68</td>\n",
       "      <td>168</td>\n",
       "      <td>24</td>\n",
       "      <td>4</td>\n",
       "      <td>Summer</td>\n",
       "      <td>Jul</td>\n",
       "      <td>Diseases of the eye and adnexa</td>\n",
       "      <td>High School</td>\n",
       "    </tr>\n",
       "    <tr>\n",
       "      <th>4</th>\n",
       "      <td>11</td>\n",
       "      <td>23</td>\n",
       "      <td>7</td>\n",
       "      <td>5</td>\n",
       "      <td>1</td>\n",
       "      <td>289</td>\n",
       "      <td>36</td>\n",
       "      <td>13</td>\n",
       "      <td>33</td>\n",
       "      <td>239554</td>\n",
       "      <td>...</td>\n",
       "      <td>False</td>\n",
       "      <td>1</td>\n",
       "      <td>90</td>\n",
       "      <td>172</td>\n",
       "      <td>30</td>\n",
       "      <td>2</td>\n",
       "      <td>Summer</td>\n",
       "      <td>Jul</td>\n",
       "      <td>Medical consultation</td>\n",
       "      <td>High School</td>\n",
       "    </tr>\n",
       "  </tbody>\n",
       "</table>\n",
       "<p>5 rows × 25 columns</p>\n",
       "</div>"
      ],
      "text/plain": [
       "   ID Reason for absence Month of absence Day of the week Seasons  \\\n",
       "0  11                 26                7               3       1   \n",
       "1  36                  0                7               3       1   \n",
       "2   3                 23                7               4       1   \n",
       "3   7                  7                7               5       1   \n",
       "4  11                 23                7               5       1   \n",
       "\n",
       "   Transportation expense  Distance from Residence to Work  Service time  Age  \\\n",
       "0                     289                               36            13   33   \n",
       "1                     118                               13            18   50   \n",
       "2                     179                               51            18   38   \n",
       "3                     279                                5            14   39   \n",
       "4                     289                               36            13   33   \n",
       "\n",
       "   Work load Averageperday  ...  Social smoker  Pet Weight  Height  \\\n",
       "0                   239554  ...          False    1     90     172   \n",
       "1                   239554  ...          False    0     98     178   \n",
       "2                   239554  ...          False    0     89     170   \n",
       "3                   239554  ...           True    0     68     168   \n",
       "4                   239554  ...          False    1     90     172   \n",
       "\n",
       "   Body mass index  Absenteeism time in hours  season_name  month_name  \\\n",
       "0               30                          4       Summer         Jul   \n",
       "1               31                          8       Summer         Jul   \n",
       "2               31                          2       Summer         Jul   \n",
       "3               24                          4       Summer         Jul   \n",
       "4               30                          2       Summer         Jul   \n",
       "\n",
       "                      reason_text  Education_detail  \n",
       "0             Unjustified absence       High School  \n",
       "1                         Unknown       High School  \n",
       "2            Medical consultation       High School  \n",
       "3  Diseases of the eye and adnexa       High School  \n",
       "4            Medical consultation       High School  \n",
       "\n",
       "[5 rows x 25 columns]"
      ]
     },
     "execution_count": 25,
     "metadata": {},
     "output_type": "execute_result"
    }
   ],
   "source": [
    "data.head()"
   ]
  },
  {
   "cell_type": "code",
   "execution_count": 27,
   "metadata": {},
   "outputs": [
    {
     "data": {
      "image/png": "[encoded data removed]",
      "text/plain": [
       "<Figure size 576x288 with 1 Axes>"
      ]
     },
     "metadata": {
      "needs_background": "light"
     },
     "output_type": "display_data"
    }
   ],
   "source": [
    "age_count = data.groupby(['Age']).agg({'ID': pd.Series.nunique})\n",
    "ax = age_count.plot(kind='bar', figsize=(8,4), legend=False)\n",
    "for i, v in enumerate(age_count.values):\n",
    "    ax.text(i-.25, v +0.2, str(v[0]), color='red')\n",
    "ax.set_xlabel('Count of employees')\n",
    "ax.set_ylabel('Age')\n",
    "ax.set_title('Agewise count of employees')\n",
    "plt.show()"
   ]
  },
  {
   "cell_type": "code",
   "execution_count": 29,
   "metadata": {},
   "outputs": [
    {
     "data": {
      "image/png": "[encoded data removed]",
      "text/plain": [
       "<Figure size 576x360 with 1 Axes>"
      ]
     },
     "metadata": {
      "needs_background": "light"
     },
     "output_type": "display_data"
    }
   ],
   "source": [
    "edu_count = data.groupby(['Education_detail']).agg({'ID': pd.Series.nunique})\n",
    "ax = edu_count.plot(kind='bar', figsize=(8,5), legend=False)\n",
    "for i, v in enumerate(edu_count.values):\n",
    "    ax.text(i-.15, v + 1, str(v[0]), color='red')\n",
    "ax.set_xlabel('Education')\n",
    "ax.set_ylabel('Count')\n",
    "ax.set_title('Educationwise count of employees')\n",
    "plt.show()"
   ]
  },
  {
   "cell_type": "code",
   "execution_count": 35,
   "metadata": {},
   "outputs": [
    {
     "data": {
      "image/png": "[encoded data removed]",
      "text/plain": [
       "<Figure size 576x432 with 1 Axes>"
      ]
     },
     "metadata": {
      "needs_background": "light"
     },
     "output_type": "display_data"
    }
   ],
   "source": [
    "age_work_sum = data.groupby('Age', as_index=False)[['Work load Averageperday']].mean()\n",
    "ax = age_work_sum.plot(kind='bar', x='Age', figsize=(8,6), legend=False)\n",
    "ax.set_ylabel('Work load average per day')\n",
    "ax.set_title('Average work load per day by age')\n",
    "plt.show()\n"
   ]
  },
  {
   "cell_type": "code",
   "execution_count": 36,
   "metadata": {},
   "outputs": [
    {
     "data": {
      "image/png": "[encoded data removed]",
      "text/plain": [
       "<Figure size 576x432 with 1 Axes>"
      ]
     },
     "metadata": {
      "needs_background": "light"
     },
     "output_type": "display_data"
    }
   ],
   "source": [
    "age_abs = data.groupby('Age')[['Absenteeism time in hours']].mean()\n",
    "ax = age_abs.plot(kind='bar', figsize=(8,6), legend=False)\n",
    "for i, v in enumerate(age_abs.values):\n",
    "    ax.text(i-.25, v + 1, str(np.int(np.round(v))), color='red')\n",
    "ax.set_ylabel('Absenteeism time in hours')\n",
    "ax.set_title('Average Absenteeism time in hours by age')\n",
    "plt.show()"
   ]
  },
  {
   "cell_type": "code",
   "execution_count": 37,
   "metadata": {},
   "outputs": [
    {
     "data": {
      "image/png": "[encoded data removed]",
      "text/plain": [
       "<Figure size 576x432 with 1 Axes>"
      ]
     },
     "metadata": {
      "needs_background": "light"
     },
     "output_type": "display_data"
    }
   ],
   "source": [
    "dis_abs = data.groupby('Distance from Residence to Work')[['Absenteeism time in hours']].mean()\n",
    "ax = dis_abs.plot(kind='bar', figsize=(8,6), legend=False)\n",
    "for i, v in enumerate(dis_abs.values):\n",
    "    ax.text(i-.25, v + 1, str(np.int(np.round(v))), color='red')\n",
    "ax.set_xlabel('Distance from Residence to Work (km)')\n",
    "ax.set_ylabel('Absenteeism time in hours')\n",
    "ax.set_title('Average Absenteeism time in hours by distance')\n",
    "plt.show()"
   ]
  },
  {
   "cell_type": "code",
   "execution_count": 38,
   "metadata": {},
   "outputs": [
    {
     "data": {
      "image/png": "[encoded data removed]",
      "text/plain": [
       "<Figure size 576x432 with 1 Axes>"
      ]
     },
     "metadata": {
      "needs_background": "light"
     },
     "output_type": "display_data"
    }
   ],
   "source": [
    "age_dis = data.groupby('Age')[['Distance from Residence to Work']].mean()\n",
    "ax = age_dis.plot(kind='bar', figsize=(8,6), legend=False)\n",
    "for i, v in enumerate(age_dis.values):\n",
    "    ax.text(i-.25, v + 1, str(np.int(np.round(v))), color='red')\n",
    "ax.set_ylabel('Distance from Residence to Work')\n",
    "ax.set_title('Average Distance from Residence to Work by age')\n",
    "plt.show()"
   ]
  },
  {
   "cell_type": "code",
   "execution_count": 39,
   "metadata": {},
   "outputs": [
    {
     "data": {
      "image/png": "[encoded data removed]",
      "text/plain": [
       "<Figure size 576x432 with 1 Axes>"
      ]
     },
     "metadata": {
      "needs_background": "light"
     },
     "output_type": "display_data"
    }
   ],
   "source": [
    "dis_exp = data.groupby('Distance from Residence to Work')[['Transportation expense']].mean()\n",
    "ax = dis_exp.plot(kind='bar', figsize=(8,6), legend=False)\n",
    "for i, v in enumerate(dis_exp.values):\n",
    "    ax.text(i-.45, v + 3, str(np.int(np.round(v))), color='red')\n",
    "ax.set_ylabel('Transportation expense')\n",
    "ax.set_title('Average Transportation expense by distance to work')\n",
    "plt.show()"
   ]
  },
  {
   "cell_type": "code",
   "execution_count": 40,
   "metadata": {},
   "outputs": [
    {
     "name": "stderr",
     "output_type": "stream",
     "text": [
      "C:\\Users\\605822\\Anaconda3\\lib\\site-packages\\ipykernel_launcher.py:1: FutureWarning: Indexing with multiple keys (implicitly converted to a tuple of keys) will be deprecated, use a list instead.\n",
      "  \"\"\"Entry point for launching an IPython kernel.\n"
     ]
    },
    {
     "data": {
      "image/png": "[encoded data removed]",
      "text/plain": [
       "<Figure size 576x432 with 1 Axes>"
      ]
     },
     "metadata": {
      "needs_background": "light"
     },
     "output_type": "display_data"
    }
   ],
   "source": [
    "ax = data.groupby('Age')['Son', 'Pet'].sum().plot(figsize=(8,6))\n",
    "ax.set_ylabel('Count')\n",
    "ax.set_title('Count of Pet & Son by Age')\n",
    "plt.show()"
   ]
  },
  {
   "cell_type": "code",
   "execution_count": 41,
   "metadata": {},
   "outputs": [
    {
     "data": {
      "text/plain": [
       "0.2222222222222222"
      ]
     },
     "execution_count": 41,
     "metadata": {},
     "output_type": "execute_result"
    }
   ],
   "source": [
    "\n",
    "emp_social = data.drop_duplicates(['ID', 'Social drinker', 'Social smoker'])[['ID', 'Social drinker', 'Social smoker']]\n",
    "# % of Social drinker those are smokers\n",
    "emp_social[emp_social['Social drinker']==True]['Social smoker'].mean()"
   ]
  },
  {
   "cell_type": "code",
   "execution_count": 42,
   "metadata": {},
   "outputs": [
    {
     "data": {
      "text/plain": [
       "0.5714285714285714"
      ]
     },
     "execution_count": 42,
     "metadata": {},
     "output_type": "execute_result"
    }
   ],
   "source": [
    "# % of Social smokers are drinkers\n",
    "emp_social[emp_social['Social smoker']==True]['Social drinker'].mean()"
   ]
  },
  {
   "cell_type": "code",
   "execution_count": 43,
   "metadata": {},
   "outputs": [
    {
     "data": {
      "image/png": "[encoded data removed]",
      "text/plain": [
       "<Figure size 576x432 with 1 Axes>"
      ]
     },
     "metadata": {},
     "output_type": "display_data"
    }
   ],
   "source": [
    "drink_sum = data[(data['Social drinker'] == True) & (data['Social smoker']==False)]['Absenteeism time in hours'].sum()\n",
    "smok_sum = data[(data['Social drinker'] == False) & (data['Social smoker']==True)]['Absenteeism time in hours'].sum()\n",
    "drink_smok_sum = data[(data['Social drinker'] == True) & (data['Social smoker']==True)]['Absenteeism time in hours'].sum()\n",
    "abs_sum = data[(data['Social drinker'] == False) & (data['Social smoker']==False)]['Absenteeism time in hours'].sum()\n",
    "absen = [drink_sum, smok_sum, drink_smok_sum, abs_sum]\n",
    "pie_labels = ['drinker', 'smoker', 'drinker & smoker', 'No drinker/smoker']\n",
    "fig, ax = plt.subplots(figsize=(8, 6), subplot_kw=dict(aspect=\"equal\"))\n",
    "\n",
    "def func(pct, allvals):\n",
    "    absolute = int(pct/100.*np.sum(allvals))\n",
    "    return \"{:.1f}%\\n({:d})\".format(pct, absolute)\n",
    "\n",
    "wedges, texts, autotexts = ax.pie(absen, autopct=lambda pct: func(pct, absen), textprops=dict(color='w'))\n",
    "ax.legend(wedges, pie_labels, title='Social Drinkers/Smokers', loc='right', bbox_to_anchor=(1, 0, 0.5, 1))\n",
    "plt.setp(autotexts, size=10, weight=\"bold\")\n",
    "ax.set_title('Absenteeism by Social Drinkers/Smokers')\n",
    "#plt.pie(absen, labels=pie_labels)\n",
    "plt.show()"
   ]
  },
  {
   "cell_type": "code",
   "execution_count": 44,
   "metadata": {},
   "outputs": [
    {
     "data": {
      "text/html": [
       "<style  type=\"text/css\" >\n",
       "</style><table id=\"T_8f64ee0c_0d69_11eb_80e2_b05cda833709\" ><thead>    <tr>        <th class=\"col_heading level0 col0\" >reason_text</th>        <th class=\"col_heading level0 col1\" >Absenteeism time in hours</th>    </tr></thead><tbody>\n",
       "                <tr>\n",
       "                                <td id=\"T_8f64ee0c_0d69_11eb_80e2_b05cda833709row0_col0\" class=\"data row0 col0\" >Diseases of the musculoskeletal system and connective tissue</td>\n",
       "                        <td id=\"T_8f64ee0c_0d69_11eb_80e2_b05cda833709row0_col1\" class=\"data row0 col1\" >842</td>\n",
       "            </tr>\n",
       "            <tr>\n",
       "                                <td id=\"T_8f64ee0c_0d69_11eb_80e2_b05cda833709row1_col0\" class=\"data row1 col0\" >Injury, poisoning and certain other consequences of external causes</td>\n",
       "                        <td id=\"T_8f64ee0c_0d69_11eb_80e2_b05cda833709row1_col1\" class=\"data row1 col1\" >729</td>\n",
       "            </tr>\n",
       "            <tr>\n",
       "                                <td id=\"T_8f64ee0c_0d69_11eb_80e2_b05cda833709row2_col0\" class=\"data row2 col0\" >Medical consultation</td>\n",
       "                        <td id=\"T_8f64ee0c_0d69_11eb_80e2_b05cda833709row2_col1\" class=\"data row2 col1\" >424</td>\n",
       "            </tr>\n",
       "            <tr>\n",
       "                                <td id=\"T_8f64ee0c_0d69_11eb_80e2_b05cda833709row3_col0\" class=\"data row3 col0\" >Dental consultation</td>\n",
       "                        <td id=\"T_8f64ee0c_0d69_11eb_80e2_b05cda833709row3_col1\" class=\"data row3 col1\" >335</td>\n",
       "            </tr>\n",
       "            <tr>\n",
       "                                <td id=\"T_8f64ee0c_0d69_11eb_80e2_b05cda833709row4_col0\" class=\"data row4 col0\" >Unknown</td>\n",
       "                        <td id=\"T_8f64ee0c_0d69_11eb_80e2_b05cda833709row4_col1\" class=\"data row4 col1\" >320</td>\n",
       "            </tr>\n",
       "            <tr>\n",
       "                                <td id=\"T_8f64ee0c_0d69_11eb_80e2_b05cda833709row5_col0\" class=\"data row5 col0\" >Diseases of the digestive system</td>\n",
       "                        <td id=\"T_8f64ee0c_0d69_11eb_80e2_b05cda833709row5_col1\" class=\"data row5 col1\" >297</td>\n",
       "            </tr>\n",
       "            <tr>\n",
       "                                <td id=\"T_8f64ee0c_0d69_11eb_80e2_b05cda833709row6_col0\" class=\"data row6 col0\" >Patient follow-up</td>\n",
       "                        <td id=\"T_8f64ee0c_0d69_11eb_80e2_b05cda833709row6_col1\" class=\"data row6 col1\" >293</td>\n",
       "            </tr>\n",
       "            <tr>\n",
       "                                <td id=\"T_8f64ee0c_0d69_11eb_80e2_b05cda833709row7_col0\" class=\"data row7 col0\" >Diseases of the respiratory system</td>\n",
       "                        <td id=\"T_8f64ee0c_0d69_11eb_80e2_b05cda833709row7_col1\" class=\"data row7 col1\" >276</td>\n",
       "            </tr>\n",
       "            <tr>\n",
       "                                <td id=\"T_8f64ee0c_0d69_11eb_80e2_b05cda833709row8_col0\" class=\"data row8 col0\" >Unjustified absence</td>\n",
       "                        <td id=\"T_8f64ee0c_0d69_11eb_80e2_b05cda833709row8_col1\" class=\"data row8 col1\" >240</td>\n",
       "            </tr>\n",
       "            <tr>\n",
       "                                <td id=\"T_8f64ee0c_0d69_11eb_80e2_b05cda833709row9_col0\" class=\"data row9 col0\" >Symptoms, signs and abnormal clinical and laboratory findings, not elsewhere classified</td>\n",
       "                        <td id=\"T_8f64ee0c_0d69_11eb_80e2_b05cda833709row9_col1\" class=\"data row9 col1\" >217</td>\n",
       "            </tr>\n",
       "            <tr>\n",
       "                                <td id=\"T_8f64ee0c_0d69_11eb_80e2_b05cda833709row10_col0\" class=\"data row10 col0\" >Diseases of the skin and subcutaneous tissue</td>\n",
       "                        <td id=\"T_8f64ee0c_0d69_11eb_80e2_b05cda833709row10_col1\" class=\"data row10 col1\" >187</td>\n",
       "            </tr>\n",
       "            <tr>\n",
       "                                <td id=\"T_8f64ee0c_0d69_11eb_80e2_b05cda833709row11_col0\" class=\"data row11 col0\" >Certain infectious and parasitic diseases</td>\n",
       "                        <td id=\"T_8f64ee0c_0d69_11eb_80e2_b05cda833709row11_col1\" class=\"data row11 col1\" >182</td>\n",
       "            </tr>\n",
       "            <tr>\n",
       "                                <td id=\"T_8f64ee0c_0d69_11eb_80e2_b05cda833709row12_col0\" class=\"data row12 col0\" >Diseases of the nervous system</td>\n",
       "                        <td id=\"T_8f64ee0c_0d69_11eb_80e2_b05cda833709row12_col1\" class=\"data row12 col1\" >171</td>\n",
       "            </tr>\n",
       "            <tr>\n",
       "                                <td id=\"T_8f64ee0c_0d69_11eb_80e2_b05cda833709row13_col0\" class=\"data row13 col0\" >Diseases of the circulatory system</td>\n",
       "                        <td id=\"T_8f64ee0c_0d69_11eb_80e2_b05cda833709row13_col1\" class=\"data row13 col1\" >168</td>\n",
       "            </tr>\n",
       "            <tr>\n",
       "                                <td id=\"T_8f64ee0c_0d69_11eb_80e2_b05cda833709row14_col0\" class=\"data row14 col0\" >Diseases of the genitourinary system</td>\n",
       "                        <td id=\"T_8f64ee0c_0d69_11eb_80e2_b05cda833709row14_col1\" class=\"data row14 col1\" >167</td>\n",
       "            </tr>\n",
       "            <tr>\n",
       "                                <td id=\"T_8f64ee0c_0d69_11eb_80e2_b05cda833709row15_col0\" class=\"data row15 col0\" >Physiotherapy</td>\n",
       "                        <td id=\"T_8f64ee0c_0d69_11eb_80e2_b05cda833709row15_col1\" class=\"data row15 col1\" >160</td>\n",
       "            </tr>\n",
       "            <tr>\n",
       "                                <td id=\"T_8f64ee0c_0d69_11eb_80e2_b05cda833709row16_col0\" class=\"data row16 col0\" >Diseases of the eye and adnexa</td>\n",
       "                        <td id=\"T_8f64ee0c_0d69_11eb_80e2_b05cda833709row16_col1\" class=\"data row16 col1\" >150</td>\n",
       "            </tr>\n",
       "            <tr>\n",
       "                                <td id=\"T_8f64ee0c_0d69_11eb_80e2_b05cda833709row17_col0\" class=\"data row17 col0\" >Laboratory examination</td>\n",
       "                        <td id=\"T_8f64ee0c_0d69_11eb_80e2_b05cda833709row17_col1\" class=\"data row17 col1\" >108</td>\n",
       "            </tr>\n",
       "            <tr>\n",
       "                                <td id=\"T_8f64ee0c_0d69_11eb_80e2_b05cda833709row18_col0\" class=\"data row18 col0\" >Factors influencing health status and contact with health services</td>\n",
       "                        <td id=\"T_8f64ee0c_0d69_11eb_80e2_b05cda833709row18_col1\" class=\"data row18 col1\" >35</td>\n",
       "            </tr>\n",
       "            <tr>\n",
       "                                <td id=\"T_8f64ee0c_0d69_11eb_80e2_b05cda833709row19_col0\" class=\"data row19 col0\" >Diseases of the ear and mastoid process</td>\n",
       "                        <td id=\"T_8f64ee0c_0d69_11eb_80e2_b05cda833709row19_col1\" class=\"data row19 col1\" >32</td>\n",
       "            </tr>\n",
       "            <tr>\n",
       "                                <td id=\"T_8f64ee0c_0d69_11eb_80e2_b05cda833709row20_col0\" class=\"data row20 col0\" >Neoplasms</td>\n",
       "                        <td id=\"T_8f64ee0c_0d69_11eb_80e2_b05cda833709row20_col1\" class=\"data row20 col1\" >24</td>\n",
       "            </tr>\n",
       "            <tr>\n",
       "                                <td id=\"T_8f64ee0c_0d69_11eb_80e2_b05cda833709row21_col0\" class=\"data row21 col0\" >Blood donation</td>\n",
       "                        <td id=\"T_8f64ee0c_0d69_11eb_80e2_b05cda833709row21_col1\" class=\"data row21 col1\" >24</td>\n",
       "            </tr>\n",
       "            <tr>\n",
       "                                <td id=\"T_8f64ee0c_0d69_11eb_80e2_b05cda833709row22_col0\" class=\"data row22 col0\" >Mental and behavioural disorders</td>\n",
       "                        <td id=\"T_8f64ee0c_0d69_11eb_80e2_b05cda833709row22_col1\" class=\"data row22 col1\" >19</td>\n",
       "            </tr>\n",
       "            <tr>\n",
       "                                <td id=\"T_8f64ee0c_0d69_11eb_80e2_b05cda833709row23_col0\" class=\"data row23 col0\" >Pregnancy, childbirth and the puerperium</td>\n",
       "                        <td id=\"T_8f64ee0c_0d69_11eb_80e2_b05cda833709row23_col1\" class=\"data row23 col1\" >16</td>\n",
       "            </tr>\n",
       "            <tr>\n",
       "                                <td id=\"T_8f64ee0c_0d69_11eb_80e2_b05cda833709row24_col0\" class=\"data row24 col0\" >Endocrine, nutritional and metabolic diseases</td>\n",
       "                        <td id=\"T_8f64ee0c_0d69_11eb_80e2_b05cda833709row24_col1\" class=\"data row24 col1\" >9</td>\n",
       "            </tr>\n",
       "            <tr>\n",
       "                                <td id=\"T_8f64ee0c_0d69_11eb_80e2_b05cda833709row25_col0\" class=\"data row25 col0\" >Diseases of the blood and blood-forming organs and certain disorders involving the immune mechanism</td>\n",
       "                        <td id=\"T_8f64ee0c_0d69_11eb_80e2_b05cda833709row25_col1\" class=\"data row25 col1\" >8</td>\n",
       "            </tr>\n",
       "            <tr>\n",
       "                                <td id=\"T_8f64ee0c_0d69_11eb_80e2_b05cda833709row26_col0\" class=\"data row26 col0\" >Congenital malformations, deformations and chromosomal abnormalities</td>\n",
       "                        <td id=\"T_8f64ee0c_0d69_11eb_80e2_b05cda833709row26_col1\" class=\"data row26 col1\" >8</td>\n",
       "            </tr>\n",
       "            <tr>\n",
       "                                <td id=\"T_8f64ee0c_0d69_11eb_80e2_b05cda833709row27_col0\" class=\"data row27 col0\" >Certain conditions originating in the perinatal period</td>\n",
       "                        <td id=\"T_8f64ee0c_0d69_11eb_80e2_b05cda833709row27_col1\" class=\"data row27 col1\" >6</td>\n",
       "            </tr>\n",
       "    </tbody></table>"
      ],
      "text/plain": [
       "<pandas.io.formats.style.Styler at 0x1ee5670cd08>"
      ]
     },
     "metadata": {},
     "output_type": "display_data"
    }
   ],
   "source": [
    "reason_abs = data.groupby('reason_text', as_index=False)['Absenteeism time in hours'].sum()\n",
    "with pd.option_context('display.max_colwidth', -1):\n",
    "    display(reason_abs.sort_values('Absenteeism time in hours', ascending=False).style.hide_index())\n"
   ]
  },
  {
   "cell_type": "code",
   "execution_count": 45,
   "metadata": {},
   "outputs": [
    {
     "data": {
      "image/png": "[encoded data removed]",
      "text/plain": [
       "<Figure size 432x288 with 1 Axes>"
      ]
     },
     "metadata": {
      "needs_background": "light"
     },
     "output_type": "display_data"
    }
   ],
   "source": [
    "season_abs = data.groupby('season_name')['Absenteeism time in hours'].sum()\n",
    "ax = season_abs.plot(kind='bar', figsize=(6,4), legend=False)\n",
    "for i, v in enumerate(season_abs.values):\n",
    "    ax.text(i-.17, v + 35, str(np.int(np.round(v))), color='red')\n",
    "ax.set_xlabel('Seasons')\n",
    "ax.set_ylabel('Sum of Absenteeism hours')\n",
    "ax.set_title('Sum of Absenteeism hours by Seasons')\n",
    "plt.show()"
   ]
  },
  {
   "cell_type": "code",
   "execution_count": 46,
   "metadata": {},
   "outputs": [
    {
     "data": {
      "image/png": "[encoded data removed]",
      "text/plain": [
       "<Figure size 576x432 with 1 Axes>"
      ]
     },
     "metadata": {
      "needs_background": "light"
     },
     "output_type": "display_data"
    }
   ],
   "source": [
    "month_abs = data.groupby('month_name')['Absenteeism time in hours'].sum()\n",
    "ax = month_abs.plot(kind='bar', figsize=(8,6), legend=False)\n",
    "for i, v in enumerate(month_abs.values):\n",
    "    ax.text(i-0.2, v + 25, str(np.int(np.round(v))), color='red')\n",
    "ax.set_xlabel('Month')\n",
    "ax.set_ylabel('Sum of Absenteeism hours')\n",
    "ax.set_title('Sum of Absenteeism hours by Month')\n",
    "plt.show()"
   ]
  },
  {
   "cell_type": "code",
   "execution_count": 47,
   "metadata": {},
   "outputs": [
    {
     "data": {
      "text/html": [
       "<style  type=\"text/css\" >\n",
       "</style><table id=\"T_ae3040e8_0d69_11eb_a7b8_b05cda833709\" ><thead>    <tr>        <th class=\"col_heading level0 col0\" >reason_text</th>        <th class=\"col_heading level0 col1\" >Absenteeism time in hours</th>    </tr></thead><tbody>\n",
       "                <tr>\n",
       "                                <td id=\"T_ae3040e8_0d69_11eb_a7b8_b05cda833709row0_col0\" class=\"data row0 col0\" >Injury, poisoning and certain other consequences of external causes</td>\n",
       "                        <td id=\"T_ae3040e8_0d69_11eb_a7b8_b05cda833709row0_col1\" class=\"data row0 col1\" >147</td>\n",
       "            </tr>\n",
       "            <tr>\n",
       "                                <td id=\"T_ae3040e8_0d69_11eb_a7b8_b05cda833709row1_col0\" class=\"data row1 col0\" >Diseases of the musculoskeletal system and connective tissue</td>\n",
       "                        <td id=\"T_ae3040e8_0d69_11eb_a7b8_b05cda833709row1_col1\" class=\"data row1 col1\" >136</td>\n",
       "            </tr>\n",
       "            <tr>\n",
       "                                <td id=\"T_ae3040e8_0d69_11eb_a7b8_b05cda833709row2_col0\" class=\"data row2 col0\" >Diseases of the skin and subcutaneous tissue</td>\n",
       "                        <td id=\"T_ae3040e8_0d69_11eb_a7b8_b05cda833709row2_col1\" class=\"data row2 col1\" >112</td>\n",
       "            </tr>\n",
       "            <tr>\n",
       "                                <td id=\"T_ae3040e8_0d69_11eb_a7b8_b05cda833709row3_col0\" class=\"data row3 col0\" >Diseases of the digestive system</td>\n",
       "                        <td id=\"T_ae3040e8_0d69_11eb_a7b8_b05cda833709row3_col1\" class=\"data row3 col1\" >72</td>\n",
       "            </tr>\n",
       "            <tr>\n",
       "                                <td id=\"T_ae3040e8_0d69_11eb_a7b8_b05cda833709row4_col0\" class=\"data row4 col0\" >Patient follow-up</td>\n",
       "                        <td id=\"T_ae3040e8_0d69_11eb_a7b8_b05cda833709row4_col1\" class=\"data row4 col1\" >56</td>\n",
       "            </tr>\n",
       "            <tr>\n",
       "                                <td id=\"T_ae3040e8_0d69_11eb_a7b8_b05cda833709row5_col0\" class=\"data row5 col0\" >Dental consultation</td>\n",
       "                        <td id=\"T_ae3040e8_0d69_11eb_a7b8_b05cda833709row5_col1\" class=\"data row5 col1\" >43</td>\n",
       "            </tr>\n",
       "            <tr>\n",
       "                                <td id=\"T_ae3040e8_0d69_11eb_a7b8_b05cda833709row6_col0\" class=\"data row6 col0\" >Physiotherapy</td>\n",
       "                        <td id=\"T_ae3040e8_0d69_11eb_a7b8_b05cda833709row6_col1\" class=\"data row6 col1\" >41</td>\n",
       "            </tr>\n",
       "            <tr>\n",
       "                                <td id=\"T_ae3040e8_0d69_11eb_a7b8_b05cda833709row7_col0\" class=\"data row7 col0\" >Diseases of the genitourinary system</td>\n",
       "                        <td id=\"T_ae3040e8_0d69_11eb_a7b8_b05cda833709row7_col1\" class=\"data row7 col1\" >33</td>\n",
       "            </tr>\n",
       "            <tr>\n",
       "                                <td id=\"T_ae3040e8_0d69_11eb_a7b8_b05cda833709row8_col0\" class=\"data row8 col0\" >Unknown</td>\n",
       "                        <td id=\"T_ae3040e8_0d69_11eb_a7b8_b05cda833709row8_col1\" class=\"data row8 col1\" >32</td>\n",
       "            </tr>\n",
       "            <tr>\n",
       "                                <td id=\"T_ae3040e8_0d69_11eb_a7b8_b05cda833709row9_col0\" class=\"data row9 col0\" >Medical consultation</td>\n",
       "                        <td id=\"T_ae3040e8_0d69_11eb_a7b8_b05cda833709row9_col1\" class=\"data row9 col1\" >28</td>\n",
       "            </tr>\n",
       "            <tr>\n",
       "                                <td id=\"T_ae3040e8_0d69_11eb_a7b8_b05cda833709row10_col0\" class=\"data row10 col0\" >Unjustified absence</td>\n",
       "                        <td id=\"T_ae3040e8_0d69_11eb_a7b8_b05cda833709row10_col1\" class=\"data row10 col1\" >16</td>\n",
       "            </tr>\n",
       "            <tr>\n",
       "                                <td id=\"T_ae3040e8_0d69_11eb_a7b8_b05cda833709row11_col0\" class=\"data row11 col0\" >Certain infectious and parasitic diseases</td>\n",
       "                        <td id=\"T_ae3040e8_0d69_11eb_a7b8_b05cda833709row11_col1\" class=\"data row11 col1\" >16</td>\n",
       "            </tr>\n",
       "            <tr>\n",
       "                                <td id=\"T_ae3040e8_0d69_11eb_a7b8_b05cda833709row12_col0\" class=\"data row12 col0\" >Laboratory examination</td>\n",
       "                        <td id=\"T_ae3040e8_0d69_11eb_a7b8_b05cda833709row12_col1\" class=\"data row12 col1\" >13</td>\n",
       "            </tr>\n",
       "            <tr>\n",
       "                                <td id=\"T_ae3040e8_0d69_11eb_a7b8_b05cda833709row13_col0\" class=\"data row13 col0\" >Congenital malformations, deformations and chromosomal abnormalities</td>\n",
       "                        <td id=\"T_ae3040e8_0d69_11eb_a7b8_b05cda833709row13_col1\" class=\"data row13 col1\" >8</td>\n",
       "            </tr>\n",
       "            <tr>\n",
       "                                <td id=\"T_ae3040e8_0d69_11eb_a7b8_b05cda833709row14_col0\" class=\"data row14 col0\" >Factors influencing health status and contact with health services</td>\n",
       "                        <td id=\"T_ae3040e8_0d69_11eb_a7b8_b05cda833709row14_col1\" class=\"data row14 col1\" >8</td>\n",
       "            </tr>\n",
       "            <tr>\n",
       "                                <td id=\"T_ae3040e8_0d69_11eb_a7b8_b05cda833709row15_col0\" class=\"data row15 col0\" >Diseases of the ear and mastoid process</td>\n",
       "                        <td id=\"T_ae3040e8_0d69_11eb_a7b8_b05cda833709row15_col1\" class=\"data row15 col1\" >8</td>\n",
       "            </tr>\n",
       "            <tr>\n",
       "                                <td id=\"T_ae3040e8_0d69_11eb_a7b8_b05cda833709row16_col0\" class=\"data row16 col0\" >Diseases of the nervous system</td>\n",
       "                        <td id=\"T_ae3040e8_0d69_11eb_a7b8_b05cda833709row16_col1\" class=\"data row16 col1\" >8</td>\n",
       "            </tr>\n",
       "            <tr>\n",
       "                                <td id=\"T_ae3040e8_0d69_11eb_a7b8_b05cda833709row17_col0\" class=\"data row17 col0\" >Diseases of the eye and adnexa</td>\n",
       "                        <td id=\"T_ae3040e8_0d69_11eb_a7b8_b05cda833709row17_col1\" class=\"data row17 col1\" >8</td>\n",
       "            </tr>\n",
       "            <tr>\n",
       "                                <td id=\"T_ae3040e8_0d69_11eb_a7b8_b05cda833709row18_col0\" class=\"data row18 col0\" >Symptoms, signs and abnormal clinical and laboratory findings, not elsewhere classified</td>\n",
       "                        <td id=\"T_ae3040e8_0d69_11eb_a7b8_b05cda833709row18_col1\" class=\"data row18 col1\" >8</td>\n",
       "            </tr>\n",
       "            <tr>\n",
       "                                <td id=\"T_ae3040e8_0d69_11eb_a7b8_b05cda833709row19_col0\" class=\"data row19 col0\" >Diseases of the respiratory system</td>\n",
       "                        <td id=\"T_ae3040e8_0d69_11eb_a7b8_b05cda833709row19_col1\" class=\"data row19 col1\" >4</td>\n",
       "            </tr>\n",
       "            <tr>\n",
       "                                <td id=\"T_ae3040e8_0d69_11eb_a7b8_b05cda833709row20_col0\" class=\"data row20 col0\" >Certain conditions originating in the perinatal period</td>\n",
       "                        <td id=\"T_ae3040e8_0d69_11eb_a7b8_b05cda833709row20_col1\" class=\"data row20 col1\" >0</td>\n",
       "            </tr>\n",
       "            <tr>\n",
       "                                <td id=\"T_ae3040e8_0d69_11eb_a7b8_b05cda833709row21_col0\" class=\"data row21 col0\" >Pregnancy, childbirth and the puerperium</td>\n",
       "                        <td id=\"T_ae3040e8_0d69_11eb_a7b8_b05cda833709row21_col1\" class=\"data row21 col1\" >0</td>\n",
       "            </tr>\n",
       "            <tr>\n",
       "                                <td id=\"T_ae3040e8_0d69_11eb_a7b8_b05cda833709row22_col0\" class=\"data row22 col0\" >Diseases of the circulatory system</td>\n",
       "                        <td id=\"T_ae3040e8_0d69_11eb_a7b8_b05cda833709row22_col1\" class=\"data row22 col1\" >0</td>\n",
       "            </tr>\n",
       "            <tr>\n",
       "                                <td id=\"T_ae3040e8_0d69_11eb_a7b8_b05cda833709row23_col0\" class=\"data row23 col0\" >Endocrine, nutritional and metabolic diseases</td>\n",
       "                        <td id=\"T_ae3040e8_0d69_11eb_a7b8_b05cda833709row23_col1\" class=\"data row23 col1\" >0</td>\n",
       "            </tr>\n",
       "            <tr>\n",
       "                                <td id=\"T_ae3040e8_0d69_11eb_a7b8_b05cda833709row24_col0\" class=\"data row24 col0\" >Mental and behavioural disorders</td>\n",
       "                        <td id=\"T_ae3040e8_0d69_11eb_a7b8_b05cda833709row24_col1\" class=\"data row24 col1\" >0</td>\n",
       "            </tr>\n",
       "            <tr>\n",
       "                                <td id=\"T_ae3040e8_0d69_11eb_a7b8_b05cda833709row25_col0\" class=\"data row25 col0\" >Diseases of the blood and blood-forming organs and certain disorders involving the immune mechanism</td>\n",
       "                        <td id=\"T_ae3040e8_0d69_11eb_a7b8_b05cda833709row25_col1\" class=\"data row25 col1\" >0</td>\n",
       "            </tr>\n",
       "            <tr>\n",
       "                                <td id=\"T_ae3040e8_0d69_11eb_a7b8_b05cda833709row26_col0\" class=\"data row26 col0\" >Blood donation</td>\n",
       "                        <td id=\"T_ae3040e8_0d69_11eb_a7b8_b05cda833709row26_col1\" class=\"data row26 col1\" >0</td>\n",
       "            </tr>\n",
       "            <tr>\n",
       "                                <td id=\"T_ae3040e8_0d69_11eb_a7b8_b05cda833709row27_col0\" class=\"data row27 col0\" >Neoplasms</td>\n",
       "                        <td id=\"T_ae3040e8_0d69_11eb_a7b8_b05cda833709row27_col1\" class=\"data row27 col1\" >0</td>\n",
       "            </tr>\n",
       "    </tbody></table>"
      ],
      "text/plain": [
       "<pandas.io.formats.style.Styler at 0x1ee5115fd08>"
      ]
     },
     "metadata": {},
     "output_type": "display_data"
    }
   ],
   "source": [
    "mar_abs = data[data['Month of absence']==3].groupby('reason_text', as_index=False)['Absenteeism time in hours'].sum()\n",
    "with pd.option_context('display.max_colwidth', -1):\n",
    "    display(mar_abs.sort_values('Absenteeism time in hours', ascending=False).style.hide_index())\n"
   ]
  },
  {
   "cell_type": "code",
   "execution_count": 49,
   "metadata": {},
   "outputs": [
    {
     "data": {
      "text/html": [
       "<style  type=\"text/css\" >\n",
       "</style><table id=\"T_c442d206_0d69_11eb_ad21_b05cda833709\" ><thead>    <tr>        <th class=\"col_heading level0 col0\" >reason_text</th>        <th class=\"col_heading level0 col1\" >Absenteeism time in hours</th>    </tr></thead><tbody>\n",
       "                <tr>\n",
       "                                <td id=\"T_c442d206_0d69_11eb_ad21_b05cda833709row0_col0\" class=\"data row0 col0\" >Diseases of the nervous system</td>\n",
       "                        <td id=\"T_c442d206_0d69_11eb_ad21_b05cda833709row0_col1\" class=\"data row0 col1\" >128</td>\n",
       "            </tr>\n",
       "            <tr>\n",
       "                                <td id=\"T_c442d206_0d69_11eb_ad21_b05cda833709row1_col0\" class=\"data row1 col0\" >Diseases of the circulatory system</td>\n",
       "                        <td id=\"T_c442d206_0d69_11eb_ad21_b05cda833709row1_col1\" class=\"data row1 col1\" >112</td>\n",
       "            </tr>\n",
       "            <tr>\n",
       "                                <td id=\"T_c442d206_0d69_11eb_ad21_b05cda833709row2_col0\" class=\"data row2 col0\" >Injury, poisoning and certain other consequences of external causes</td>\n",
       "                        <td id=\"T_c442d206_0d69_11eb_ad21_b05cda833709row2_col1\" class=\"data row2 col1\" >98</td>\n",
       "            </tr>\n",
       "            <tr>\n",
       "                                <td id=\"T_c442d206_0d69_11eb_ad21_b05cda833709row3_col0\" class=\"data row3 col0\" >Diseases of the musculoskeletal system and connective tissue</td>\n",
       "                        <td id=\"T_c442d206_0d69_11eb_ad21_b05cda833709row3_col1\" class=\"data row3 col1\" >88</td>\n",
       "            </tr>\n",
       "            <tr>\n",
       "                                <td id=\"T_c442d206_0d69_11eb_ad21_b05cda833709row4_col0\" class=\"data row4 col0\" >Patient follow-up</td>\n",
       "                        <td id=\"T_c442d206_0d69_11eb_ad21_b05cda833709row4_col1\" class=\"data row4 col1\" >72</td>\n",
       "            </tr>\n",
       "            <tr>\n",
       "                                <td id=\"T_c442d206_0d69_11eb_ad21_b05cda833709row5_col0\" class=\"data row5 col0\" >Unjustified absence</td>\n",
       "                        <td id=\"T_c442d206_0d69_11eb_ad21_b05cda833709row5_col1\" class=\"data row5 col1\" >56</td>\n",
       "            </tr>\n",
       "            <tr>\n",
       "                                <td id=\"T_c442d206_0d69_11eb_ad21_b05cda833709row6_col0\" class=\"data row6 col0\" >Certain infectious and parasitic diseases</td>\n",
       "                        <td id=\"T_c442d206_0d69_11eb_ad21_b05cda833709row6_col1\" class=\"data row6 col1\" >40</td>\n",
       "            </tr>\n",
       "            <tr>\n",
       "                                <td id=\"T_c442d206_0d69_11eb_ad21_b05cda833709row7_col0\" class=\"data row7 col0\" >Medical consultation</td>\n",
       "                        <td id=\"T_c442d206_0d69_11eb_ad21_b05cda833709row7_col1\" class=\"data row7 col1\" >24</td>\n",
       "            </tr>\n",
       "            <tr>\n",
       "                                <td id=\"T_c442d206_0d69_11eb_ad21_b05cda833709row8_col0\" class=\"data row8 col0\" >Diseases of the digestive system</td>\n",
       "                        <td id=\"T_c442d206_0d69_11eb_ad21_b05cda833709row8_col1\" class=\"data row8 col1\" >21</td>\n",
       "            </tr>\n",
       "            <tr>\n",
       "                                <td id=\"T_c442d206_0d69_11eb_ad21_b05cda833709row9_col0\" class=\"data row9 col0\" >Dental consultation</td>\n",
       "                        <td id=\"T_c442d206_0d69_11eb_ad21_b05cda833709row9_col1\" class=\"data row9 col1\" >18</td>\n",
       "            </tr>\n",
       "            <tr>\n",
       "                                <td id=\"T_c442d206_0d69_11eb_ad21_b05cda833709row10_col0\" class=\"data row10 col0\" >Laboratory examination</td>\n",
       "                        <td id=\"T_c442d206_0d69_11eb_ad21_b05cda833709row10_col1\" class=\"data row10 col1\" >17</td>\n",
       "            </tr>\n",
       "            <tr>\n",
       "                                <td id=\"T_c442d206_0d69_11eb_ad21_b05cda833709row11_col0\" class=\"data row11 col0\" >Unknown</td>\n",
       "                        <td id=\"T_c442d206_0d69_11eb_ad21_b05cda833709row11_col1\" class=\"data row11 col1\" >16</td>\n",
       "            </tr>\n",
       "            <tr>\n",
       "                                <td id=\"T_c442d206_0d69_11eb_ad21_b05cda833709row12_col0\" class=\"data row12 col0\" >Diseases of the genitourinary system</td>\n",
       "                        <td id=\"T_c442d206_0d69_11eb_ad21_b05cda833709row12_col1\" class=\"data row12 col1\" >16</td>\n",
       "            </tr>\n",
       "            <tr>\n",
       "                                <td id=\"T_c442d206_0d69_11eb_ad21_b05cda833709row13_col0\" class=\"data row13 col0\" >Diseases of the eye and adnexa</td>\n",
       "                        <td id=\"T_c442d206_0d69_11eb_ad21_b05cda833709row13_col1\" class=\"data row13 col1\" >12</td>\n",
       "            </tr>\n",
       "            <tr>\n",
       "                                <td id=\"T_c442d206_0d69_11eb_ad21_b05cda833709row14_col0\" class=\"data row14 col0\" >Pregnancy, childbirth and the puerperium</td>\n",
       "                        <td id=\"T_c442d206_0d69_11eb_ad21_b05cda833709row14_col1\" class=\"data row14 col1\" >8</td>\n",
       "            </tr>\n",
       "            <tr>\n",
       "                                <td id=\"T_c442d206_0d69_11eb_ad21_b05cda833709row15_col0\" class=\"data row15 col0\" >Symptoms, signs and abnormal clinical and laboratory findings, not elsewhere classified</td>\n",
       "                        <td id=\"T_c442d206_0d69_11eb_ad21_b05cda833709row15_col1\" class=\"data row15 col1\" >8</td>\n",
       "            </tr>\n",
       "            <tr>\n",
       "                                <td id=\"T_c442d206_0d69_11eb_ad21_b05cda833709row16_col0\" class=\"data row16 col0\" >Factors influencing health status and contact with health services</td>\n",
       "                        <td id=\"T_c442d206_0d69_11eb_ad21_b05cda833709row16_col1\" class=\"data row16 col1\" >8</td>\n",
       "            </tr>\n",
       "            <tr>\n",
       "                                <td id=\"T_c442d206_0d69_11eb_ad21_b05cda833709row17_col0\" class=\"data row17 col0\" >Mental and behavioural disorders</td>\n",
       "                        <td id=\"T_c442d206_0d69_11eb_ad21_b05cda833709row17_col1\" class=\"data row17 col1\" >8</td>\n",
       "            </tr>\n",
       "            <tr>\n",
       "                                <td id=\"T_c442d206_0d69_11eb_ad21_b05cda833709row18_col0\" class=\"data row18 col0\" >Diseases of the skin and subcutaneous tissue</td>\n",
       "                        <td id=\"T_c442d206_0d69_11eb_ad21_b05cda833709row18_col1\" class=\"data row18 col1\" >0</td>\n",
       "            </tr>\n",
       "            <tr>\n",
       "                                <td id=\"T_c442d206_0d69_11eb_ad21_b05cda833709row19_col0\" class=\"data row19 col0\" >Diseases of the respiratory system</td>\n",
       "                        <td id=\"T_c442d206_0d69_11eb_ad21_b05cda833709row19_col1\" class=\"data row19 col1\" >0</td>\n",
       "            </tr>\n",
       "            <tr>\n",
       "                                <td id=\"T_c442d206_0d69_11eb_ad21_b05cda833709row20_col0\" class=\"data row20 col0\" >Diseases of the ear and mastoid process</td>\n",
       "                        <td id=\"T_c442d206_0d69_11eb_ad21_b05cda833709row20_col1\" class=\"data row20 col1\" >0</td>\n",
       "            </tr>\n",
       "            <tr>\n",
       "                                <td id=\"T_c442d206_0d69_11eb_ad21_b05cda833709row21_col0\" class=\"data row21 col0\" >Certain conditions originating in the perinatal period</td>\n",
       "                        <td id=\"T_c442d206_0d69_11eb_ad21_b05cda833709row21_col1\" class=\"data row21 col1\" >0</td>\n",
       "            </tr>\n",
       "            <tr>\n",
       "                                <td id=\"T_c442d206_0d69_11eb_ad21_b05cda833709row22_col0\" class=\"data row22 col0\" >Congenital malformations, deformations and chromosomal abnormalities</td>\n",
       "                        <td id=\"T_c442d206_0d69_11eb_ad21_b05cda833709row22_col1\" class=\"data row22 col1\" >0</td>\n",
       "            </tr>\n",
       "            <tr>\n",
       "                                <td id=\"T_c442d206_0d69_11eb_ad21_b05cda833709row23_col0\" class=\"data row23 col0\" >Endocrine, nutritional and metabolic diseases</td>\n",
       "                        <td id=\"T_c442d206_0d69_11eb_ad21_b05cda833709row23_col1\" class=\"data row23 col1\" >0</td>\n",
       "            </tr>\n",
       "            <tr>\n",
       "                                <td id=\"T_c442d206_0d69_11eb_ad21_b05cda833709row24_col0\" class=\"data row24 col0\" >Blood donation</td>\n",
       "                        <td id=\"T_c442d206_0d69_11eb_ad21_b05cda833709row24_col1\" class=\"data row24 col1\" >0</td>\n",
       "            </tr>\n",
       "            <tr>\n",
       "                                <td id=\"T_c442d206_0d69_11eb_ad21_b05cda833709row25_col0\" class=\"data row25 col0\" >Diseases of the blood and blood-forming organs and certain disorders involving the immune mechanism</td>\n",
       "                        <td id=\"T_c442d206_0d69_11eb_ad21_b05cda833709row25_col1\" class=\"data row25 col1\" >0</td>\n",
       "            </tr>\n",
       "            <tr>\n",
       "                                <td id=\"T_c442d206_0d69_11eb_ad21_b05cda833709row26_col0\" class=\"data row26 col0\" >Neoplasms</td>\n",
       "                        <td id=\"T_c442d206_0d69_11eb_ad21_b05cda833709row26_col1\" class=\"data row26 col1\" >0</td>\n",
       "            </tr>\n",
       "            <tr>\n",
       "                                <td id=\"T_c442d206_0d69_11eb_ad21_b05cda833709row27_col0\" class=\"data row27 col0\" >Physiotherapy</td>\n",
       "                        <td id=\"T_c442d206_0d69_11eb_ad21_b05cda833709row27_col1\" class=\"data row27 col1\" >0</td>\n",
       "            </tr>\n",
       "    </tbody></table>"
      ],
      "text/plain": [
       "<pandas.io.formats.style.Styler at 0x1ee551aae88>"
      ]
     },
     "metadata": {},
     "output_type": "display_data"
    }
   ],
   "source": [
    "jul_abs = data[data['Month of absence']==7].groupby('reason_text', as_index=False)['Absenteeism time in hours'].sum()\n",
    "with pd.option_context('display.max_colwidth', -1):\n",
    "    display(jul_abs.sort_values('Absenteeism time in hours', ascending=False).style.hide_index())"
   ]
  },
  {
   "cell_type": "code",
   "execution_count": 50,
   "metadata": {},
   "outputs": [],
   "source": [
    "df_features = data[['Reason for absence', 'Month of absence', 'Day of the week', 'Seasons', 'Transportation expense', \n",
    "        'Distance from Residence to Work', 'Service time', 'Age', 'Work load Averageperday', 'Hit target',\n",
    "        'Disciplinary failure', 'Education', 'Son', 'Social drinker', 'Social smoker', 'Pet', 'Weight', \n",
    "        'Height', 'Body mass index' ]]"
   ]
  },
  {
   "cell_type": "code",
   "execution_count": 51,
   "metadata": {},
   "outputs": [
    {
     "data": {
      "image/png": "[encoded data removed]",
      "text/plain": [
       "<Figure size 1152x720 with 1 Axes>"
      ]
     },
     "metadata": {
      "needs_background": "light"
     },
     "output_type": "display_data"
    }
   ],
   "source": [
    "corr = np.round(scipy.stats.spearmanr(df_features).correlation, 4)\n",
    "corr_condensed = hc.distance.squareform(1-corr)\n",
    "z = hc.linkage(corr_condensed, method='average')\n",
    "fig = plt.figure(figsize=(16,10))\n",
    "dendrogram = hc.dendrogram(z, labels=df_features.columns, orientation='left', leaf_font_size = 16)\n",
    "plt.show()"
   ]
  },
  {
   "cell_type": "code",
   "execution_count": 53,
   "metadata": {},
   "outputs": [],
   "source": [
    "X = df_features\n",
    "y = data['Absenteeism time in hours']\n",
    "X_train, X_test, y_train, y_test = train_test_split(X, y, test_size=0.3, random_state=42)"
   ]
  },
  {
   "cell_type": "code",
   "execution_count": 54,
   "metadata": {},
   "outputs": [],
   "source": [
    "model = RandomForestRegressor(n_estimators=1000, random_state=0, oob_score=True, n_jobs=-1)\n",
    "model.fit(X_train,y_train)\n",
    "y_pred = model.predict(X_test)"
   ]
  },
  {
   "cell_type": "code",
   "execution_count": 55,
   "metadata": {},
   "outputs": [
    {
     "name": "stdout",
     "output_type": "stream",
     "text": [
      "Out-of-bag score : -0.0335\n",
      "Test data R-2 score: 0.0224\n",
      "Test set of RMSE : 12.87\n",
      "Test data Spearman correlation: 0.647\n",
      "Test data Pearson correlation: 0.302\n"
     ]
    }
   ],
   "source": [
    "test_score = r2_score(y_test, y_pred)\n",
    "spearman = spearmanr(y_test, y_pred)\n",
    "pearson = pearsonr(y_test, y_pred)\n",
    "rmse_test = MSE(y_test, y_pred) ** (1/2)\n",
    "\n",
    "print(f'Out-of-bag score : {model.oob_score_:>5.3}')\n",
    "print(f'Test data R-2 score: {test_score:>5.3}')\n",
    "print(f'Test set of RMSE : {rmse_test:.2f}')\n",
    "print(f'Test data Spearman correlation: {spearman[0]:.3}')\n",
    "print(f'Test data Pearson correlation: {pearson[0]:.3}')"
   ]
  },
  {
   "cell_type": "code",
   "execution_count": 56,
   "metadata": {},
   "outputs": [
    {
     "data": {
      "image/png": "[encoded data removed]",
      "text/plain": [
       "<Figure size 576x432 with 1 Axes>"
      ]
     },
     "metadata": {
      "needs_background": "light"
     },
     "output_type": "display_data"
    }
   ],
   "source": [
    "ax = (pd.Series(model.feature_importances_, index=X.columns)\n",
    "   .nlargest(19)\n",
    "   .plot(kind='barh', figsize=(8,6), color='lightgreen'))\n",
    "plt.show()"
   ]
  },
  {
   "cell_type": "code",
   "execution_count": 58,
   "metadata": {},
   "outputs": [
    {
     "name": "stderr",
     "output_type": "stream",
     "text": [
      "C:\\Users\\605822\\Anaconda3\\lib\\site-packages\\ipykernel_launcher.py:3: SettingWithCopyWarning: \n",
      "A value is trying to be set on a copy of a slice from a DataFrame.\n",
      "Try using .loc[row_indexer,col_indexer] = value instead\n",
      "\n",
      "See the caveats in the documentation: https://pandas.pydata.org/pandas-docs/stable/user_guide/indexing.html#returning-a-view-versus-a-copy\n",
      "  This is separate from the ipykernel package so we can avoid doing imports until\n"
     ]
    }
   ],
   "source": [
    "abs_bins = [0, 4, 8, 16, np.inf]\n",
    "abs_names = ['<4', '8', '16', '16+']\n",
    "data['abs_range'] = pd.cut(data['Absenteeism time in hours'], abs_bins, labels=abs_names)"
   ]
  },
  {
   "cell_type": "code",
   "execution_count": 59,
   "metadata": {},
   "outputs": [],
   "source": [
    "X = df_features\n",
    "y = data['abs_range']\n",
    "X_train, X_test, y_train, y_test = train_test_split(X, y, test_size=0.3, random_state=42)"
   ]
  },
  {
   "cell_type": "code",
   "execution_count": 60,
   "metadata": {},
   "outputs": [],
   "source": [
    "model = RandomForestClassifier(n_estimators=100, random_state=0, oob_score=True, n_jobs=-1)\n",
    "model.fit(X_train,y_train)\n",
    "y_pred = model.predict(X_test)"
   ]
  },
  {
   "cell_type": "code",
   "execution_count": 61,
   "metadata": {},
   "outputs": [
    {
     "name": "stdout",
     "output_type": "stream",
     "text": [
      "Accuracy: 0.7342342342342343\n"
     ]
    }
   ],
   "source": [
    "print(\"Accuracy:\",metrics.accuracy_score(y_test, y_pred))"
   ]
  },
  {
   "cell_type": "code",
   "execution_count": 62,
   "metadata": {},
   "outputs": [
    {
     "name": "stdout",
     "output_type": "stream",
     "text": [
      "              precision    recall  f1-score   support\n",
      "\n",
      "          16       0.00      0.00      0.00         3\n",
      "         16+       0.33      0.18      0.24        11\n",
      "           8       0.66      0.64      0.65        78\n",
      "          <4       0.80      0.85      0.83       130\n",
      "\n",
      "    accuracy                           0.73       222\n",
      "   macro avg       0.45      0.42      0.43       222\n",
      "weighted avg       0.72      0.73      0.72       222\n",
      "\n"
     ]
    }
   ],
   "source": [
    "print(classification_report(y_test, y_pred))"
   ]
  },
  {
   "cell_type": "code",
   "execution_count": 63,
   "metadata": {},
   "outputs": [
    {
     "data": {
      "image/png": "[encoded data removed]",
      "text/plain": [
       "<Figure size 576x432 with 1 Axes>"
      ]
     },
     "metadata": {
      "needs_background": "light"
     },
     "output_type": "display_data"
    }
   ],
   "source": [
    "ax = (pd.Series(model.feature_importances_, index=X.columns)\n",
    "   .nlargest(19)\n",
    "   .plot(kind='barh', figsize=(8,6), color='lightgreen'))\n",
    "plt.show()"
   ]
  },
  {
   "cell_type": "code",
   "execution_count": 64,
   "metadata": {},
   "outputs": [
    {
     "name": "stderr",
     "output_type": "stream",
     "text": [
      "C:\\Users\\605822\\Anaconda3\\lib\\site-packages\\ipykernel_launcher.py:3: SettingWithCopyWarning: \n",
      "A value is trying to be set on a copy of a slice from a DataFrame.\n",
      "Try using .loc[row_indexer,col_indexer] = value instead\n",
      "\n",
      "See the caveats in the documentation: https://pandas.pydata.org/pandas-docs/stable/user_guide/indexing.html#returning-a-view-versus-a-copy\n",
      "  This is separate from the ipykernel package so we can avoid doing imports until\n"
     ]
    }
   ],
   "source": [
    "bins = [25, 35, 45, 55, np.inf]\n",
    "names = [25, 35, 45, 55]\n",
    "data['age_range'] = pd.cut(data['Age'], bins, labels=names)"
   ]
  },
  {
   "cell_type": "code",
   "execution_count": 65,
   "metadata": {},
   "outputs": [],
   "source": [
    "X = data[['Reason for absence', 'Month of absence', 'Day of the week', 'Seasons', 'Transportation expense', \n",
    "        'Distance from Residence to Work', 'Service time', 'age_range', 'Work load Averageperday', 'Hit target',\n",
    "        'Disciplinary failure', 'Education', 'Son', 'Social drinker', 'Social smoker', 'Pet', 'Weight', \n",
    "        'Height', 'Body mass index' ]]\n",
    "y = data['abs_range']\n",
    "X_train, X_test, y_train, y_test = train_test_split(X, y, test_size=0.3, random_state=42)"
   ]
  },
  {
   "cell_type": "code",
   "execution_count": 66,
   "metadata": {},
   "outputs": [],
   "source": [
    "model = RandomForestClassifier(n_estimators=100, random_state=0, oob_score=True, n_jobs=-1)\n",
    "model.fit(X_train,y_train)\n",
    "y_pred = model.predict(X_test)"
   ]
  },
  {
   "cell_type": "code",
   "execution_count": 67,
   "metadata": {},
   "outputs": [
    {
     "name": "stdout",
     "output_type": "stream",
     "text": [
      "Accuracy: 0.7432432432432432\n"
     ]
    }
   ],
   "source": [
    "print(\"Accuracy:\",metrics.accuracy_score(y_test, y_pred))"
   ]
  },
  {
   "cell_type": "code",
   "execution_count": 68,
   "metadata": {},
   "outputs": [
    {
     "name": "stdout",
     "output_type": "stream",
     "text": [
      "              precision    recall  f1-score   support\n",
      "\n",
      "          16       0.00      0.00      0.00         3\n",
      "         16+       0.33      0.18      0.24        11\n",
      "           8       0.68      0.63      0.65        78\n",
      "          <4       0.80      0.88      0.84       130\n",
      "\n",
      "    accuracy                           0.74       222\n",
      "   macro avg       0.45      0.42      0.43       222\n",
      "weighted avg       0.72      0.74      0.73       222\n",
      "\n"
     ]
    }
   ],
   "source": [
    "print(classification_report(y_test, y_pred))"
   ]
  },
  {
   "cell_type": "code",
   "execution_count": null,
   "metadata": {},
   "outputs": [],
   "source": []
  }
 ],
 "metadata": {
  "kernelspec": {
   "display_name": "Python 3",
   "language": "python",
   "name": "python3"
  },
  "language_info": {
   "codemirror_mode": {
    "name": "ipython",
    "version": 3
   },
   "file_extension": ".py",
   "mimetype": "text/x-python",
   "name": "python",
   "nbconvert_exporter": "python",
   "pygments_lexer": "ipython3",
   "version": "3.7.6"
  }
 },
 "nbformat": 4,
 "nbformat_minor": 4
}
