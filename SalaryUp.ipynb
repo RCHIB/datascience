{
 "cells": [
  {
   "cell_type": "code",
   "execution_count": 27,
   "metadata": {},
   "outputs": [
    {
     "data": {
      "text/html": [
       "<div>\n",
       "<style scoped>\n",
       "    .dataframe tbody tr th:only-of-type {\n",
       "        vertical-align: middle;\n",
       "    }\n",
       "\n",
       "    .dataframe tbody tr th {\n",
       "        vertical-align: top;\n",
       "    }\n",
       "\n",
       "    .dataframe thead th {\n",
       "        text-align: right;\n",
       "    }\n",
       "</style>\n",
       "<table border=\"1\" class=\"dataframe\">\n",
       "  <thead>\n",
       "    <tr style=\"text-align: right;\">\n",
       "      <th></th>\n",
       "      <th>Name</th>\n",
       "      <th>Department</th>\n",
       "      <th>Manager</th>\n",
       "      <th>Salary</th>\n",
       "    </tr>\n",
       "  </thead>\n",
       "  <tbody>\n",
       "    <tr>\n",
       "      <th>0</th>\n",
       "      <td>Robin Hood</td>\n",
       "      <td>NaN</td>\n",
       "      <td>NaN</td>\n",
       "      <td>200</td>\n",
       "    </tr>\n",
       "    <tr>\n",
       "      <th>1</th>\n",
       "      <td>Arsene Wenger</td>\n",
       "      <td>Bar</td>\n",
       "      <td>Friar Tuck</td>\n",
       "      <td>50</td>\n",
       "    </tr>\n",
       "    <tr>\n",
       "      <th>2</th>\n",
       "      <td>Friar Tuck</td>\n",
       "      <td>Foo</td>\n",
       "      <td>Robin Hood</td>\n",
       "      <td>100</td>\n",
       "    </tr>\n",
       "    <tr>\n",
       "      <th>3</th>\n",
       "      <td>Little John</td>\n",
       "      <td>Foo</td>\n",
       "      <td>Robin Hood</td>\n",
       "      <td>100</td>\n",
       "    </tr>\n",
       "    <tr>\n",
       "      <th>4</th>\n",
       "      <td>Sam Allardyce</td>\n",
       "      <td>NaN</td>\n",
       "      <td>NaN</td>\n",
       "      <td>250</td>\n",
       "    </tr>\n",
       "    <tr>\n",
       "      <th>5</th>\n",
       "      <td>Dimi Berbatov</td>\n",
       "      <td>Foo</td>\n",
       "      <td>Little John</td>\n",
       "      <td>50</td>\n",
       "    </tr>\n",
       "  </tbody>\n",
       "</table>\n",
       "</div>"
      ],
      "text/plain": [
       "            Name Department      Manager  Salary\n",
       "0     Robin Hood        NaN          NaN     200\n",
       "1  Arsene Wenger        Bar   Friar Tuck      50\n",
       "2     Friar Tuck        Foo   Robin Hood     100\n",
       "3    Little John        Foo   Robin Hood     100\n",
       "4  Sam Allardyce        NaN          NaN     250\n",
       "5  Dimi Berbatov        Foo  Little John      50"
      ]
     },
     "execution_count": 27,
     "metadata": {},
     "output_type": "execute_result"
    }
   ],
   "source": [
    "import pandas as pd\n",
    "import numpy as np\n",
    "df_salary = pd.read_csv(r'C:\\DataSet\\employees.csv')\n",
    "df_salary"
   ]
  },
  {
   "cell_type": "code",
   "execution_count": 4,
   "metadata": {},
   "outputs": [
    {
     "data": {
      "text/plain": [
       "Name          0\n",
       "Department    2\n",
       "Manager       2\n",
       "Salary        0\n",
       "dtype: int64"
      ]
     },
     "execution_count": 4,
     "metadata": {},
     "output_type": "execute_result"
    }
   ],
   "source": [
    "\n",
    "df_salary.isnull().sum()"
   ]
  },
  {
   "cell_type": "code",
   "execution_count": 9,
   "metadata": {},
   "outputs": [
    {
     "data": {
      "image/png": "[encoded data removed]",
      "text/plain": [
       "<Figure size 432x288 with 1 Axes>"
      ]
     },
     "metadata": {
      "needs_background": "light"
     },
     "output_type": "display_data"
    }
   ],
   "source": [
    "#Lets\n",
    "import seaborn as sns\n",
    "import matplotlib.pyplot as plt\n",
    "sns.countplot(x=\"Salary\",data=df_salary)\n",
    "plt.show()"
   ]
  },
  {
   "cell_type": "code",
   "execution_count": 12,
   "metadata": {},
   "outputs": [
    {
     "data": {
      "image/png": "[encoded data removed]",
      "text/plain": [
       "<Figure size 432x288 with 1 Axes>"
      ]
     },
     "metadata": {
      "needs_background": "light"
     },
     "output_type": "display_data"
    }
   ],
   "source": [
    "sns.countplot(x=\"Salary\",hue=\"Name\",data=df_salary)\n",
    "plt.show()"
   ]
  },
  {
   "cell_type": "code",
   "execution_count": 13,
   "metadata": {},
   "outputs": [],
   "source": [
    "\n",
    "#Let's now divide the dataset into input and output\n",
    "df_x=df_salary.drop(columns=[\"Salary\"])\n",
    "y=df_salary[[\"Salary\"]]"
   ]
  },
  {
   "cell_type": "code",
   "execution_count": 14,
   "metadata": {},
   "outputs": [],
   "source": [
    "\n",
    "#we will convert the input into into integers using get_dummies\n",
    "df_x=pd.get_dummies(df_x,drop_first=True)"
   ]
  },
  {
   "cell_type": "code",
   "execution_count": 15,
   "metadata": {},
   "outputs": [
    {
     "data": {
      "text/plain": [
       "(6, 8)"
      ]
     },
     "execution_count": 15,
     "metadata": {},
     "output_type": "execute_result"
    }
   ],
   "source": [
    "#lets chcek the shape\n",
    "df_x.shape"
   ]
  },
  {
   "cell_type": "code",
   "execution_count": 21,
   "metadata": {},
   "outputs": [
    {
     "data": {
      "text/plain": [
       "Name          object\n",
       "Department    object\n",
       "Manager       object\n",
       "Salary         int64\n",
       "dtype: object"
      ]
     },
     "execution_count": 21,
     "metadata": {},
     "output_type": "execute_result"
    }
   ],
   "source": [
    "df_salary.dtypes"
   ]
  },
  {
   "cell_type": "code",
   "execution_count": 22,
   "metadata": {},
   "outputs": [
    {
     "data": {
      "text/plain": [
       "<bound method NDFrame.describe of             Name Department      Manager  Salary\n",
       "0     Robin Hood        NaN          NaN     200\n",
       "1  Arsene Wenger        Bar   Friar Tuck      50\n",
       "2     Friar Tuck        Foo   Robin Hood     100\n",
       "3    Little John        Foo   Robin Hood     100\n",
       "4  Sam Allardyce        NaN          NaN     250\n",
       "5  Dimi Berbatov        Foo  Little John      50>"
      ]
     },
     "execution_count": 22,
     "metadata": {},
     "output_type": "execute_result"
    }
   ],
   "source": [
    "df_salary.describe"
   ]
  },
  {
   "cell_type": "code",
   "execution_count": 16,
   "metadata": {},
   "outputs": [],
   "source": [
    "#Lets bring input dataset features to same scale\n",
    "from sklearn.preprocessing import StandardScaler\n",
    "sc=StandardScaler()\n",
    "sc.fit(df_x)\n",
    "x=sc.transform(df_x)\n",
    "x=pd.DataFrame(x,columns=df_x.columns)"
   ]
  },
  {
   "cell_type": "code",
   "execution_count": 23,
   "metadata": {},
   "outputs": [
    {
     "data": {
      "text/plain": [
       "<matplotlib.axes._subplots.AxesSubplot at 0x18256647d48>"
      ]
     },
     "execution_count": 23,
     "metadata": {},
     "output_type": "execute_result"
    },
    {
     "data": {
      "image/png": "[encoded data removed]",
      "text/plain": [
       "<Figure size 432x288 with 1 Axes>"
      ]
     },
     "metadata": {
      "needs_background": "light"
     },
     "output_type": "display_data"
    }
   ],
   "source": [
    "df_salary['Salary'].plot.box()"
   ]
  },
  {
   "cell_type": "code",
   "execution_count": 25,
   "metadata": {},
   "outputs": [
    {
     "data": {
      "text/plain": [
       "<matplotlib.axes._subplots.AxesSubplot at 0x182566d85c8>"
      ]
     },
     "execution_count": 25,
     "metadata": {},
     "output_type": "execute_result"
    },
    {
     "data": {
      "image/png": "[encoded data removed]",
      "text/plain": [
       "<Figure size 432x288 with 1 Axes>"
      ]
     },
     "metadata": {
      "needs_background": "light"
     },
     "output_type": "display_data"
    }
   ],
   "source": [
    "df_salary['Salary'].hist()"
   ]
  },
  {
   "cell_type": "code",
   "execution_count": 29,
   "metadata": {},
   "outputs": [
    {
     "data": {
      "text/plain": [
       "Salary    0.811441\n",
       "dtype: float64"
      ]
     },
     "execution_count": 29,
     "metadata": {},
     "output_type": "execute_result"
    }
   ],
   "source": [
    "df_salary.skew()"
   ]
  },
  {
   "cell_type": "code",
   "execution_count": 37,
   "metadata": {},
   "outputs": [
    {
     "data": {
      "text/plain": [
       "array([[-0.4472136 , -0.4472136 , -0.4472136 ,  2.23606798, -0.4472136 ,\n",
       "        -1.        , -0.4472136 , -0.70710678],\n",
       "       [-0.4472136 , -0.4472136 , -0.4472136 , -0.4472136 , -0.4472136 ,\n",
       "        -1.        , -0.4472136 , -0.70710678],\n",
       "       [-0.4472136 ,  2.23606798, -0.4472136 , -0.4472136 , -0.4472136 ,\n",
       "         1.        , -0.4472136 ,  1.41421356],\n",
       "       [-0.4472136 , -0.4472136 ,  2.23606798, -0.4472136 , -0.4472136 ,\n",
       "         1.        , -0.4472136 ,  1.41421356],\n",
       "       [-0.4472136 , -0.4472136 , -0.4472136 , -0.4472136 ,  2.23606798,\n",
       "        -1.        , -0.4472136 , -0.70710678],\n",
       "       [ 2.23606798, -0.4472136 , -0.4472136 , -0.4472136 , -0.4472136 ,\n",
       "         1.        ,  2.23606798, -0.70710678]])"
      ]
     },
     "execution_count": 37,
     "metadata": {},
     "output_type": "execute_result"
    }
   ],
   "source": [
    "\n",
    "from sklearn.preprocessing import StandardScaler\n",
    "sc = StandardScaler()\n",
    "x = sc.fit_transform(x)\n",
    "x"
   ]
  },
  {
   "cell_type": "code",
   "execution_count": 38,
   "metadata": {},
   "outputs": [
    {
     "data": {
      "text/plain": [
       "array([2, 0, 1, 1, 3, 0], dtype=int64)"
      ]
     },
     "execution_count": 38,
     "metadata": {},
     "output_type": "execute_result"
    }
   ],
   "source": [
    "\n",
    "#lets use labelencoder to convert target class into integers\n",
    "from sklearn.preprocessing import LabelEncoder\n",
    "le=LabelEncoder()\n",
    "le.fit(y)\n",
    "y=le.transform(y)\n",
    "y"
   ]
  },
  {
   "cell_type": "code",
   "execution_count": 39,
   "metadata": {},
   "outputs": [
    {
     "name": "stdout",
     "output_type": "stream",
     "text": [
      "random state : 42  and f1 score:  -0.9271583557128897\n",
      "random state : 43  and f1 score:  0.44955170595155935\n",
      "random state : 44  and f1 score:  -7.471397442234455\n",
      "random state : 45  and f1 score:  -7.15885997259142\n",
      "random state : 46  and f1 score:  -7.158859972591433\n",
      "random state : 47  and f1 score:  -7.158859972591424\n",
      "random state : 48  and f1 score:  -3.6178493605586137\n",
      "random state : 49  and f1 score:  -3.6178493605586173\n",
      "random state : 50  and f1 score:  -3.617849360558618\n",
      "random state : 51  and f1 score:  -3.6178493605586155\n",
      "random state : 52  and f1 score:  -7.471397442234464\n",
      "random state : 53  and f1 score:  -24.999999999999993\n",
      "random state : 54  and f1 score:  -25.0\n",
      "random state : 55  and f1 score:  -0.0042385525173611605\n",
      "random state : 56  and f1 score:  -7.158859972591424\n",
      "random state : 57  and f1 score:  -7.158859972591424\n",
      "random state : 58  and f1 score:  -3.6178493605586146\n",
      "random state : 59  and f1 score:  -7.471397442234462\n",
      "random state : 60  and f1 score:  -25.0\n",
      "random state : 61  and f1 score:  0.0\n",
      "random state : 62  and f1 score:  -1.0242849228574253\n",
      "random state : 63  and f1 score:  -0.9271583557128915\n",
      "random state : 64  and f1 score:  0.0\n",
      "random state : 65  and f1 score:  0.0\n",
      "random state : 66  and f1 score:  -0.9271583557128915\n",
      "random state : 67  and f1 score:  -24.999999999999993\n",
      "random state : 68  and f1 score:  -7.15885997259142\n",
      "random state : 69  and f1 score:  -25.0\n",
      "random state : 70  and f1 score:  0.0\n",
      "random state : 71  and f1 score:  -7.15885997259142\n",
      "random state : 72  and f1 score:  0.0\n",
      "random state : 73  and f1 score:  -0.0042385525173611605\n",
      "random state : 74  and f1 score:  -1.0546410764292058\n",
      "random state : 75  and f1 score:  -3.617849360558618\n",
      "random state : 76  and f1 score:  -1.024284922857424\n",
      "random state : 77  and f1 score:  -7.471397442234471\n",
      "random state : 78  and f1 score:  -3.617849360558618\n",
      "random state : 79  and f1 score:  -0.0042385525173611605\n",
      "random state : 80  and f1 score:  -0.9271583557128884\n",
      "random state : 81  and f1 score:  -1.0242849228574231\n",
      "random state : 82  and f1 score:  -25.0\n",
      "random state : 83  and f1 score:  0.0\n",
      "random state : 84  and f1 score:  0.44955170595156435\n",
      "random state : 85  and f1 score:  0.44955170595155747\n",
      "random state : 86  and f1 score:  -7.158859972591445\n",
      "random state : 87  and f1 score:  -0.9271583557128928\n",
      "random state : 88  and f1 score:  -3.617849360558618\n",
      "random state : 89  and f1 score:  -1.054641076429205\n",
      "random state : 90  and f1 score:  -0.0042385525173611605\n",
      "random state : 91  and f1 score:  -7.471397442234453\n",
      "random state : 92  and f1 score:  -0.9271583557128906\n",
      "random state : 93  and f1 score:  -7.158859972591424\n",
      "random state : 94  and f1 score:  -1.0242849228574236\n",
      "random state : 95  and f1 score:  -1.0546410764292062\n",
      "random state : 96  and f1 score:  -7.15885997259142\n",
      "random state : 97  and f1 score:  -1.0546410764292053\n",
      "random state : 98  and f1 score:  -3.6178493605586155\n",
      "random state : 99  and f1 score:  -3.6178493605586146\n",
      "maximum f1_score is at random state : 84  and it is : 0.44955170595156435\n"
     ]
    }
   ],
   "source": [
    "#modelling\n",
    "from sklearn.model_selection import train_test_split\n",
    "from sklearn.metrics import mean_absolute_error\n",
    "from sklearn.metrics import mean_squared_error\n",
    "from sklearn.metrics import r2_score\n",
    "from sklearn import linear_model\n",
    "max_r_score=0\n",
    "for r_state in range(42,100):\n",
    "    x_train,x_test,y_train,y_test=train_test_split(x, y,random_state = r_state,test_size=0.20)\n",
    "    regr=linear_model.LinearRegression()\n",
    "    regr.fit(x_train,y_train)\n",
    "    y_pred=regr.predict(x_test)\n",
    "    r2_scr=r2_score(y_test,y_pred)\n",
    "    print(\"random state :\",r_state,\" and f1 score: \",r2_scr)\n",
    "    if r2_scr>max_r_score:\n",
    "        max_r_score=r2_scr\n",
    "        rs=r_state\n",
    "print(\"maximum f1_score is at random state :\",rs,\" and it is :\",max_r_score)"
   ]
  },
  {
   "cell_type": "code",
   "execution_count": 49,
   "metadata": {},
   "outputs": [
    {
     "data": {
      "text/plain": [
       "-0.4625923051864495"
      ]
     },
     "execution_count": 49,
     "metadata": {},
     "output_type": "execute_result"
    }
   ],
   "source": [
    "#cross-val\n",
    "from sklearn.model_selection import cross_val_score\n",
    "cross_val_score(linear_model.LinearRegression(),x,y,cv=3,scoring=\"r2\").mean()"
   ]
  },
  {
   "cell_type": "code",
   "execution_count": 50,
   "metadata": {},
   "outputs": [],
   "source": [
    "x_train,x_test,y_train,y_test=train_test_split(x, y,random_state = 20,test_size=0.20)\n",
    "lr=linear_model.LinearRegression()\n",
    "lr.fit(x_train,y_train)\n",
    "y_pred=lr.predict(x_test)"
   ]
  },
  {
   "cell_type": "code",
   "execution_count": 51,
   "metadata": {},
   "outputs": [
    {
     "name": "stdout",
     "output_type": "stream",
     "text": [
      "r2 score is : -0.0042385525173611605\n",
      "RME is :  1.5031755530090498\n"
     ]
    }
   ],
   "source": [
    "from sklearn.metrics import r2_score\n",
    "from sklearn.metrics import mean_squared_error\n",
    "print(\"r2 score is :\",r2_score(y_test,y_pred))\n",
    "print(\"RME is : \",np.sqrt(mean_squared_error(y_test,y_pred)))\n"
   ]
  },
  {
   "cell_type": "code",
   "execution_count": 52,
   "metadata": {},
   "outputs": [
    {
     "name": "stderr",
     "output_type": "stream",
     "text": [
      "C:\\Users\\605822\\Anaconda3\\lib\\site-packages\\sklearn\\externals\\joblib\\__init__.py:15: FutureWarning: sklearn.externals.joblib is deprecated in 0.21 and will be removed in 0.23. Please import this functionality directly from joblib, which can be installed with: pip install joblib. If this warning is raised when loading pickled models, you may need to re-serialize those models with scikit-learn 0.21+.\n",
      "  warnings.warn(msg, category=FutureWarning)\n"
     ]
    },
    {
     "data": {
      "text/plain": [
       "['salary.pkl']"
      ]
     },
     "execution_count": 52,
     "metadata": {},
     "output_type": "execute_result"
    }
   ],
   "source": [
    "from sklearn.externals import joblib\n",
    "joblib.dump(lr,'salary.pkl')"
   ]
  },
  {
   "cell_type": "code",
   "execution_count": null,
   "metadata": {},
   "outputs": [],
   "source": []
  }
 ],
 "metadata": {
  "kernelspec": {
   "display_name": "Python 3",
   "language": "python",
   "name": "python3"
  },
  "language_info": {
   "codemirror_mode": {
    "name": "ipython",
    "version": 3
   },
   "file_extension": ".py",
   "mimetype": "text/x-python",
   "name": "python",
   "nbconvert_exporter": "python",
   "pygments_lexer": "ipython3",
   "version": "3.7.6"
  }
 },
 "nbformat": 4,
 "nbformat_minor": 4
}
